{
 "cells": [
  {
   "cell_type": "markdown",
   "metadata": {},
   "source": [
    "# CZ2001 Lab 3\n",
    "---"
   ]
  },
  {
   "cell_type": "code",
   "execution_count": 18,
   "metadata": {},
   "outputs": [],
   "source": [
    "import random\n",
    "import time\n",
    "def random_ls_generator(size=1000,sort=0):\n",
    "    \"\"\"sort=1 refers to accending order, \n",
    "       sort=-1 refers to sorting in descending order,\n",
    "       and sort=0 refers to no sorting\"\"\"\n",
    "    random_ls = random.sample(range(1000000), size)\n",
    "    random.shuffle(random_ls)\n",
    "    print(len(random_ls))\n",
    "    return random_ls"
   ]
  },
  {
   "cell_type": "code",
   "execution_count": 19,
   "metadata": {},
   "outputs": [
    {
     "name": "stdout",
     "output_type": "stream",
     "text": [
      "1000\n",
      "10000\n",
      "100000\n",
      "250000\n",
      "500000\n",
      "750000\n",
      "1000000\n"
     ]
    }
   ],
   "source": [
    "# Input Data (1)\n",
    "random_10power3 = random_ls_generator(size=1000)\n",
    "random_10power4 = random_ls_generator(size=10000)\n",
    "random_10power5 = random_ls_generator(size=100000)\n",
    "random_250000   = random_ls_generator(size=250000)\n",
    "random_500000   = random_ls_generator(size=500000)\n",
    "random_750000   = random_ls_generator(size=750000)\n",
    "random_10power6 = random_ls_generator(size=1000000)\n",
    "\n",
    "# Input Data (2)\n",
    "ascending_10power3 = list(range(1000))\n",
    "ascending_10power4 = list(range(10000))\n",
    "ascending_10power5 = list(range(100000))\n",
    "ascending_250000   = list(range(250000))\n",
    "ascending_500000   = list(range(500000))\n",
    "ascending_750000   = list(range(750000))\n",
    "ascending_10power6 = list(range(1000000))\n",
    "\n",
    "# Input Data (3)\n",
    "descending_10power3 = list(reversed(range(1000)))\n",
    "descending_10power4 = list(reversed(range(10000)))\n",
    "descending_10power5 = list(reversed(range(100000)))\n",
    "descending_250000   = list(reversed(range(250000)))\n",
    "descending_500000   = list(reversed(range(500000)))\n",
    "descending_750000   = list(reversed(range(750000)))\n",
    "descending_10power6 = list(reversed(range(1000000)))\n",
    "\n",
    "input_data = {\n",
    "    'random_10power3' : random_10power3,\n",
    "    'random_10power4' : random_10power4,\n",
    "    'random_10power5' : random_10power5,\n",
    "    'random_250000'   : random_250000,\n",
    "    'random_500000'   : random_500000,\n",
    "    'random_750000'   : random_750000,\n",
    "    'random_10power6' : random_10power6,\n",
    "\n",
    "    \n",
    "    'ascending_10power3' : ascending_10power3,\n",
    "    'ascending_10power4' : ascending_10power4,\n",
    "    'ascending_10power5' : ascending_10power5,\n",
    "    'ascending_250000'   : ascending_250000,\n",
    "    'ascending_500000'   : ascending_500000,\n",
    "    'ascending_750000'   : ascending_750000,\n",
    "    'ascending_10power6' : ascending_10power6,\n",
    "    \n",
    "    'descending_10power3' : descending_10power3,\n",
    "    'descending_10power4' : descending_10power4,\n",
    "    'descending_10power5' : descending_10power5,\n",
    "    'descending_250000'   : descending_250000,\n",
    "    'descending_500000'   : descending_500000,\n",
    "    'descending_750000'   : descending_750000,\n",
    "    'descending_10power6' : descending_10power6,\n",
    "}"
   ]
  },
  {
   "cell_type": "code",
   "execution_count": 20,
   "metadata": {},
   "outputs": [
    {
     "data": {
      "text/plain": [
       "([1, 2, 3, 4, 5], 10)"
      ]
     },
     "execution_count": 20,
     "metadata": {},
     "output_type": "execute_result"
    }
   ],
   "source": [
    "arr = [5,4,3,2,1]\n",
    "##arr = [1, 2, 3, 4, 5]\n",
    "\n",
    "# @jit(nopython=True)\n",
    "def insertionSort(arr):\n",
    "    key_comparisons = 0\n",
    "    for i in range(len(arr)):\n",
    "        for j in range(i,0,-1):\n",
    "            key_comparisons+=1\n",
    "            if arr[j] < arr[j-1]:\n",
    "                temp = arr[j]\n",
    "                arr[j] = arr[j-1]\n",
    "                arr[j-1] = temp\n",
    "            else:\n",
    "                break\n",
    "    return arr, key_comparisons\n",
    "\n",
    "insertionSort(arr)"
   ]
  },
  {
   "cell_type": "code",
   "execution_count": 21,
   "metadata": {},
   "outputs": [
    {
     "data": {
      "text/plain": [
       "([1, 2, 3, 4, 5], 5)"
      ]
     },
     "execution_count": 21,
     "metadata": {},
     "output_type": "execute_result"
    }
   ],
   "source": [
    "# arr = descending_10power3\n",
    "# arr = [4,0,6,2,5,1,7,6]\n",
    "\n",
    "# @jit()\n",
    "def merge(arr1, arr2):\n",
    "    key_comparisons = 0\n",
    "    merged_list = []\n",
    "\n",
    "#     print(arr1, arr2)\n",
    "    if (len(arr1)==0 or len(arr2)==0):\n",
    "        return merged_list, key_comparisons\n",
    "    \n",
    "    idx1 = idx2 = 0\n",
    "    target_len = len(arr1) + len(arr2)\n",
    "    \n",
    "    while(len(merged_list)<target_len):\n",
    "        if (idx1==len(arr1)):\n",
    "            merged_list+=arr2[idx2:]\n",
    "            break\n",
    "        if (idx2==len(arr2)):\n",
    "            merged_list+=arr1[idx1:]\n",
    "            break\n",
    "        \n",
    "        key_comparisons += 1\n",
    "        if (arr1[idx1]<arr2[idx2]):\n",
    "            merged_list.append(arr1[idx1])\n",
    "            idx1+=1\n",
    "        elif (arr1[idx1]>arr2[idx2]):\n",
    "            merged_list.append(arr2[idx2])\n",
    "            idx2+=1\n",
    "        else: # 1st elements of 2 halves are equal\n",
    "            merged_list.append(arr1[idx1])\n",
    "            merged_list.append(arr2[idx2])\n",
    "            idx1+=1\n",
    "            idx2+=1\n",
    "    return merged_list, key_comparisons\n",
    "\n",
    "def mergeSort(arr):     \n",
    "    if (len(arr)<2):\n",
    "        return arr, 0\n",
    "    else:\n",
    "        mid = len(arr) // 2\n",
    "        arr1, kc1 = mergeSort(arr[:mid])\n",
    "        arr2, kc2 = mergeSort(arr[mid:])\n",
    "#         print(merge(arr1, arr2))\n",
    "        res_arr, kc = merge(arr1, arr2)\n",
    "    return res_arr, kc+kc1+kc2\n",
    "\n",
    "# arr = [4,0,6,2,5,1,7,6]\n",
    "mergeSort(arr)"
   ]
  },
  {
   "cell_type": "code",
   "execution_count": 22,
   "metadata": {},
   "outputs": [],
   "source": [
    "def time_function(function, arg):        \n",
    "    arg_list = input_data[arg].copy()\n",
    "    \n",
    "    start = time.time()\n",
    "    res, key_comparisons = function(arg_list)\n",
    "    time_taken = time.time() - start\n",
    "    \n",
    "    print(\"Time taken for \" + str(function) + \" to execute [\" + arg + \"] was:\" + str(time_taken))\n",
    "    print(str(function) + \" list sorted correctly: \" + str(res == sorted(arg_list)) + \"\\n\")\n",
    "    return time_taken, key_comparisons\n",
    "\n",
    "def compare_time(arg):\n",
    "    insertionSort_time, ISort_key_comparisons = time_function(insertionSort, arg)\n",
    "    mergeSort_time, MSort_key_comparisons = time_function(mergeSort, arg)\n",
    "    \n",
    "    # Comparison of Key comparisons\n",
    "    if MSort_key_comparisons>ISort_key_comparisons:\n",
    "        print(\"MergeSort has \" + str(MSort_key_comparisons/ISort_key_comparisons) + \" times more key comparisons compared to InsertionSort.\" )\n",
    "    else:\n",
    "        print(\"InsertionSort has \" + str(ISort_key_comparisons/MSort_key_comparisons) + \" times more key comparisons compared to MergeSort.\" )\n",
    "    \n",
    "    # Comparison of Sort time\n",
    "    if (mergeSort_time==0): # if either time is 0.0, will have error since int not divisible by 0\n",
    "        print(\"MergeSort is too fast\")\n",
    "        return insertionSort_time, mergeSort_time, ISort_key_comparisons, MSort_key_comparisons\n",
    "    elif (insertionSort_time==0):\n",
    "        print(\"InsertionSort is too fast\")\n",
    "        return insertionSort_time, mergeSort_time, ISort_key_comparisons, MSort_key_comparisons\n",
    "    \n",
    "    if mergeSort_time<insertionSort_time:\n",
    "        print(\"MergeSort is \" + str(insertionSort_time/mergeSort_time) + \" times faster than InsertionSort.\" )\n",
    "    else:\n",
    "        print(\"InsertionSort is \" + str(mergeSort_time/insertionSort_time) + \" times faster than MergeSort.\" )\n",
    "    \n",
    "    return insertionSort_time, mergeSort_time, ISort_key_comparisons, MSort_key_comparisons"
   ]
  },
  {
   "cell_type": "markdown",
   "metadata": {},
   "source": [
    "## Initialise DataFrame to store time and key comparison values into a dataframe"
   ]
  },
  {
   "cell_type": "code",
   "execution_count": 23,
   "metadata": {},
   "outputs": [],
   "source": [
    "import pandas as pd  # using pandas dataframe to store values\n",
    "\n",
    "index = ['Random', 'Sorted - Ascending', 'Sorted - Descending']\n",
    "columns = ['ISort Time', 'MSort Time', 'Key Comp - ISort', 'Key Comp - MSort']\n",
    "\n",
    "df_10power3 = pd.DataFrame(index=[], columns=columns)\n",
    "df_10power3 = df_10power3.fillna(0) # with 0s rather than NaNs\n",
    "df_10power3 = df_10power3.astype({columns[0] : 'float64', columns[1] : 'float64'})\n",
    "\n",
    "df_10power4 = pd.DataFrame(index=[], columns=columns)\n",
    "df_10power4 = df_10power4.fillna(0) # with 0s rather than NaNs\n",
    "df_10power4 = df_10power4.astype({columns[0] : 'float64', columns[1] : 'float64'})\n",
    "\n",
    "df_10power5 = pd.DataFrame(index=[], columns=columns)\n",
    "df_10power5 = df_10power5.fillna(0) # with 0s rather than NaNs\n",
    "df_10power5 = df_10power5.astype({columns[0] : 'float64', columns[1] : 'float64'})\n",
    "\n",
    "\n",
    "\n"
   ]
  },
  {
   "cell_type": "code",
   "execution_count": 57,
   "metadata": {},
   "outputs": [],
   "source": [
    "df_250000 = pd.DataFrame(index=[], columns=columns)\n",
    "df_250000 = df_250000.fillna(0) # with 0s rather than NaNs\n",
    "df_250000 = df_250000.astype({columns[0] : 'float64', columns[1] : 'float64'})\n",
    "\n",
    "df_500000 = pd.DataFrame(index=[], columns=columns)\n",
    "df_500000 = df_500000.fillna(0) # with 0s rather than NaNs\n",
    "df_500000 = df_500000.astype({columns[0] : 'float64', columns[1] : 'float64'})\n",
    "\n",
    "df_750000 = pd.DataFrame(index=[], columns=columns)\n",
    "df_750000 = df_750000.fillna(0) # with 0s rather than NaNs\n",
    "df_750000 = df_750000.astype({columns[0] : 'float64', columns[1] : 'float64'})\n",
    "\n",
    "df_10power6 = pd.DataFrame(index=[], columns=columns)\n",
    "df_10power6 = df_10power6.fillna(0) # with 0s rather than NaNs\n",
    "df_10power6 = df_10power6.astype({columns[0] : 'float64', columns[1] : 'float64'})"
   ]
  },
  {
   "cell_type": "markdown",
   "metadata": {},
   "source": [
    "# 10^3 - Random, Sorted (Ascending), Sorted (Descending)"
   ]
  },
  {
   "cell_type": "code",
   "execution_count": 24,
   "metadata": {
    "scrolled": true
   },
   "outputs": [
    {
     "name": "stdout",
     "output_type": "stream",
     "text": [
      "Time taken for <function insertionSort at 0x000001BB836F0EA0> to execute [random_10power3] was:0.05286884307861328\n",
      "<function insertionSort at 0x000001BB836F0EA0> list sorted correctly: True\n",
      "\n",
      "Time taken for <function mergeSort at 0x000001BB836F0D08> to execute [random_10power3] was:0.003989696502685547\n",
      "<function mergeSort at 0x000001BB836F0D08> list sorted correctly: True\n",
      "\n",
      "InsertionSort has 29.209818349045758 times more key comparisons compared to MergeSort.\n",
      "MergeSort is 13.2513445679455 times faster than InsertionSort.\n"
     ]
    },
    {
     "data": {
      "text/html": [
       "<div>\n",
       "<style scoped>\n",
       "    .dataframe tbody tr th:only-of-type {\n",
       "        vertical-align: middle;\n",
       "    }\n",
       "\n",
       "    .dataframe tbody tr th {\n",
       "        vertical-align: top;\n",
       "    }\n",
       "\n",
       "    .dataframe thead th {\n",
       "        text-align: right;\n",
       "    }\n",
       "</style>\n",
       "<table border=\"1\" class=\"dataframe\">\n",
       "  <thead>\n",
       "    <tr style=\"text-align: right;\">\n",
       "      <th></th>\n",
       "      <th>ISort Time</th>\n",
       "      <th>MSort Time</th>\n",
       "      <th>Key Comp - ISort</th>\n",
       "      <th>Key Comp - MSort</th>\n",
       "    </tr>\n",
       "  </thead>\n",
       "  <tbody>\n",
       "    <tr>\n",
       "      <th>Random</th>\n",
       "      <td>0.052869</td>\n",
       "      <td>0.00399</td>\n",
       "      <td>254067.0</td>\n",
       "      <td>8698.0</td>\n",
       "    </tr>\n",
       "  </tbody>\n",
       "</table>\n",
       "</div>"
      ],
      "text/plain": [
       "        ISort Time  MSort Time  Key Comp - ISort  Key Comp - MSort\n",
       "Random    0.052869     0.00399          254067.0            8698.0"
      ]
     },
     "metadata": {},
     "output_type": "display_data"
    }
   ],
   "source": [
    "data = compare_time('random_10power3')\n",
    "data = pd.DataFrame(list(data), index=columns, columns=[index[0]]).transpose()\n",
    "display(data)\n",
    "df_10power3 = df_10power3.append(data)"
   ]
  },
  {
   "cell_type": "code",
   "execution_count": 25,
   "metadata": {},
   "outputs": [
    {
     "name": "stdout",
     "output_type": "stream",
     "text": [
      "Time taken for <function insertionSort at 0x000001BB836F0EA0> to execute [ascending_10power3] was:0.0009970664978027344\n",
      "<function insertionSort at 0x000001BB836F0EA0> list sorted correctly: True\n",
      "\n",
      "Time taken for <function mergeSort at 0x000001BB836F0D08> to execute [ascending_10power3] was:0.0029921531677246094\n",
      "<function mergeSort at 0x000001BB836F0D08> list sorted correctly: True\n",
      "\n",
      "MergeSort has 4.936936936936937 times more key comparisons compared to InsertionSort.\n",
      "InsertionSort is 3.000956480153037 times faster than MergeSort.\n"
     ]
    },
    {
     "data": {
      "text/html": [
       "<div>\n",
       "<style scoped>\n",
       "    .dataframe tbody tr th:only-of-type {\n",
       "        vertical-align: middle;\n",
       "    }\n",
       "\n",
       "    .dataframe tbody tr th {\n",
       "        vertical-align: top;\n",
       "    }\n",
       "\n",
       "    .dataframe thead th {\n",
       "        text-align: right;\n",
       "    }\n",
       "</style>\n",
       "<table border=\"1\" class=\"dataframe\">\n",
       "  <thead>\n",
       "    <tr style=\"text-align: right;\">\n",
       "      <th></th>\n",
       "      <th>ISort Time</th>\n",
       "      <th>MSort Time</th>\n",
       "      <th>Key Comp - ISort</th>\n",
       "      <th>Key Comp - MSort</th>\n",
       "    </tr>\n",
       "  </thead>\n",
       "  <tbody>\n",
       "    <tr>\n",
       "      <th>Sorted - Ascending</th>\n",
       "      <td>0.000997</td>\n",
       "      <td>0.002992</td>\n",
       "      <td>999.0</td>\n",
       "      <td>4932.0</td>\n",
       "    </tr>\n",
       "  </tbody>\n",
       "</table>\n",
       "</div>"
      ],
      "text/plain": [
       "                    ISort Time  MSort Time  Key Comp - ISort  Key Comp - MSort\n",
       "Sorted - Ascending    0.000997    0.002992             999.0            4932.0"
      ]
     },
     "metadata": {},
     "output_type": "display_data"
    }
   ],
   "source": [
    "data = compare_time('ascending_10power3')\n",
    "data = pd.DataFrame(list(data), index=columns, columns=[index[1]]).transpose()\n",
    "display(data)\n",
    "df_10power3 = df_10power3.append(data)"
   ]
  },
  {
   "cell_type": "code",
   "execution_count": 26,
   "metadata": {},
   "outputs": [
    {
     "name": "stdout",
     "output_type": "stream",
     "text": [
      "Time taken for <function insertionSort at 0x000001BB836F0EA0> to execute [descending_10power3] was:0.11621594429016113\n",
      "<function insertionSort at 0x000001BB836F0EA0> list sorted correctly: True\n",
      "\n",
      "Time taken for <function mergeSort at 0x000001BB836F0D08> to execute [descending_10power3] was:0.0029876232147216797\n",
      "<function mergeSort at 0x000001BB836F0D08> list sorted correctly: True\n",
      "\n",
      "InsertionSort has 99.02854877081681 times more key comparisons compared to MergeSort.\n",
      "MergeSort is 38.89913015721012 times faster than InsertionSort.\n"
     ]
    },
    {
     "data": {
      "text/html": [
       "<div>\n",
       "<style scoped>\n",
       "    .dataframe tbody tr th:only-of-type {\n",
       "        vertical-align: middle;\n",
       "    }\n",
       "\n",
       "    .dataframe tbody tr th {\n",
       "        vertical-align: top;\n",
       "    }\n",
       "\n",
       "    .dataframe thead th {\n",
       "        text-align: right;\n",
       "    }\n",
       "</style>\n",
       "<table border=\"1\" class=\"dataframe\">\n",
       "  <thead>\n",
       "    <tr style=\"text-align: right;\">\n",
       "      <th></th>\n",
       "      <th>ISort Time</th>\n",
       "      <th>MSort Time</th>\n",
       "      <th>Key Comp - ISort</th>\n",
       "      <th>Key Comp - MSort</th>\n",
       "    </tr>\n",
       "  </thead>\n",
       "  <tbody>\n",
       "    <tr>\n",
       "      <th>Sorted - Descending</th>\n",
       "      <td>0.116216</td>\n",
       "      <td>0.002988</td>\n",
       "      <td>499500.0</td>\n",
       "      <td>5044.0</td>\n",
       "    </tr>\n",
       "  </tbody>\n",
       "</table>\n",
       "</div>"
      ],
      "text/plain": [
       "                     ISort Time  MSort Time  Key Comp - ISort  \\\n",
       "Sorted - Descending    0.116216    0.002988          499500.0   \n",
       "\n",
       "                     Key Comp - MSort  \n",
       "Sorted - Descending            5044.0  "
      ]
     },
     "metadata": {},
     "output_type": "display_data"
    }
   ],
   "source": [
    "data = compare_time('descending_10power3')\n",
    "data = pd.DataFrame(list(data), index=columns, columns=[index[2]]).transpose()\n",
    "display(data)\n",
    "df_10power3 = df_10power3.append(data)"
   ]
  },
  {
   "cell_type": "code",
   "execution_count": 27,
   "metadata": {},
   "outputs": [
    {
     "name": "stdout",
     "output_type": "stream",
     "text": [
      "df_10power3: \n"
     ]
    },
    {
     "data": {
      "text/html": [
       "<div>\n",
       "<style scoped>\n",
       "    .dataframe tbody tr th:only-of-type {\n",
       "        vertical-align: middle;\n",
       "    }\n",
       "\n",
       "    .dataframe tbody tr th {\n",
       "        vertical-align: top;\n",
       "    }\n",
       "\n",
       "    .dataframe thead th {\n",
       "        text-align: right;\n",
       "    }\n",
       "</style>\n",
       "<table border=\"1\" class=\"dataframe\">\n",
       "  <thead>\n",
       "    <tr style=\"text-align: right;\">\n",
       "      <th></th>\n",
       "      <th>ISort Time</th>\n",
       "      <th>MSort Time</th>\n",
       "      <th>Key Comp - ISort</th>\n",
       "      <th>Key Comp - MSort</th>\n",
       "    </tr>\n",
       "  </thead>\n",
       "  <tbody>\n",
       "    <tr>\n",
       "      <th>Random</th>\n",
       "      <td>0.052869</td>\n",
       "      <td>0.003990</td>\n",
       "      <td>254067.0</td>\n",
       "      <td>8698.0</td>\n",
       "    </tr>\n",
       "    <tr>\n",
       "      <th>Sorted - Ascending</th>\n",
       "      <td>0.000997</td>\n",
       "      <td>0.002992</td>\n",
       "      <td>999.0</td>\n",
       "      <td>4932.0</td>\n",
       "    </tr>\n",
       "    <tr>\n",
       "      <th>Sorted - Descending</th>\n",
       "      <td>0.116216</td>\n",
       "      <td>0.002988</td>\n",
       "      <td>499500.0</td>\n",
       "      <td>5044.0</td>\n",
       "    </tr>\n",
       "  </tbody>\n",
       "</table>\n",
       "</div>"
      ],
      "text/plain": [
       "                     ISort Time  MSort Time  Key Comp - ISort  \\\n",
       "Random                 0.052869    0.003990          254067.0   \n",
       "Sorted - Ascending     0.000997    0.002992             999.0   \n",
       "Sorted - Descending    0.116216    0.002988          499500.0   \n",
       "\n",
       "                     Key Comp - MSort  \n",
       "Random                         8698.0  \n",
       "Sorted - Ascending             4932.0  \n",
       "Sorted - Descending            5044.0  "
      ]
     },
     "metadata": {},
     "output_type": "display_data"
    }
   ],
   "source": [
    "df_10power3.to_csv('Data/df_10power3.csv')\n",
    "print(\"df_10power3: \")\n",
    "display(df_10power3)"
   ]
  },
  {
   "cell_type": "markdown",
   "metadata": {},
   "source": [
    "# 10^4 - Random, Sorted (Ascending), Sorted (Descending)"
   ]
  },
  {
   "cell_type": "code",
   "execution_count": 28,
   "metadata": {},
   "outputs": [
    {
     "name": "stdout",
     "output_type": "stream",
     "text": [
      "Time taken for <function insertionSort at 0x000001BB836F0EA0> to execute [random_10power4] was:5.845461130142212\n",
      "<function insertionSort at 0x000001BB836F0EA0> list sorted correctly: True\n",
      "\n",
      "Time taken for <function mergeSort at 0x000001BB836F0D08> to execute [random_10power4] was:0.05486249923706055\n",
      "<function mergeSort at 0x000001BB836F0D08> list sorted correctly: True\n",
      "\n",
      "InsertionSort has 208.60698533992274 times more key comparisons compared to MergeSort.\n",
      "MergeSort is 106.54748163921603 times faster than InsertionSort.\n"
     ]
    },
    {
     "data": {
      "text/html": [
       "<div>\n",
       "<style scoped>\n",
       "    .dataframe tbody tr th:only-of-type {\n",
       "        vertical-align: middle;\n",
       "    }\n",
       "\n",
       "    .dataframe tbody tr th {\n",
       "        vertical-align: top;\n",
       "    }\n",
       "\n",
       "    .dataframe thead th {\n",
       "        text-align: right;\n",
       "    }\n",
       "</style>\n",
       "<table border=\"1\" class=\"dataframe\">\n",
       "  <thead>\n",
       "    <tr style=\"text-align: right;\">\n",
       "      <th></th>\n",
       "      <th>ISort Time</th>\n",
       "      <th>MSort Time</th>\n",
       "      <th>Key Comp - ISort</th>\n",
       "      <th>Key Comp - MSort</th>\n",
       "    </tr>\n",
       "  </thead>\n",
       "  <tbody>\n",
       "    <tr>\n",
       "      <th>Random</th>\n",
       "      <td>5.845461</td>\n",
       "      <td>0.054862</td>\n",
       "      <td>25115238.0</td>\n",
       "      <td>120395.0</td>\n",
       "    </tr>\n",
       "  </tbody>\n",
       "</table>\n",
       "</div>"
      ],
      "text/plain": [
       "        ISort Time  MSort Time  Key Comp - ISort  Key Comp - MSort\n",
       "Random    5.845461    0.054862        25115238.0          120395.0"
      ]
     },
     "metadata": {},
     "output_type": "display_data"
    }
   ],
   "source": [
    "data = compare_time('random_10power4')\n",
    "data = pd.DataFrame(list(data), index=columns, columns=[index[0]]).transpose()\n",
    "display(data)\n",
    "df_10power4 = df_10power4.append(data)"
   ]
  },
  {
   "cell_type": "code",
   "execution_count": 29,
   "metadata": {
    "scrolled": true
   },
   "outputs": [
    {
     "name": "stdout",
     "output_type": "stream",
     "text": [
      "Time taken for <function insertionSort at 0x000001BB836F0EA0> to execute [ascending_10power4] was:0.002987384796142578\n",
      "<function insertionSort at 0x000001BB836F0EA0> list sorted correctly: True\n",
      "\n",
      "Time taken for <function mergeSort at 0x000001BB836F0D08> to execute [ascending_10power4] was:0.033416032791137695\n",
      "<function mergeSort at 0x000001BB836F0D08> list sorted correctly: True\n",
      "\n",
      "MergeSort has 6.461446144614461 times more key comparisons compared to InsertionSort.\n",
      "InsertionSort is 11.185714285714285 times faster than MergeSort.\n"
     ]
    },
    {
     "data": {
      "text/html": [
       "<div>\n",
       "<style scoped>\n",
       "    .dataframe tbody tr th:only-of-type {\n",
       "        vertical-align: middle;\n",
       "    }\n",
       "\n",
       "    .dataframe tbody tr th {\n",
       "        vertical-align: top;\n",
       "    }\n",
       "\n",
       "    .dataframe thead th {\n",
       "        text-align: right;\n",
       "    }\n",
       "</style>\n",
       "<table border=\"1\" class=\"dataframe\">\n",
       "  <thead>\n",
       "    <tr style=\"text-align: right;\">\n",
       "      <th></th>\n",
       "      <th>ISort Time</th>\n",
       "      <th>MSort Time</th>\n",
       "      <th>Key Comp - ISort</th>\n",
       "      <th>Key Comp - MSort</th>\n",
       "    </tr>\n",
       "  </thead>\n",
       "  <tbody>\n",
       "    <tr>\n",
       "      <th>Sorted - Ascending</th>\n",
       "      <td>0.002987</td>\n",
       "      <td>0.033416</td>\n",
       "      <td>9999.0</td>\n",
       "      <td>64608.0</td>\n",
       "    </tr>\n",
       "  </tbody>\n",
       "</table>\n",
       "</div>"
      ],
      "text/plain": [
       "                    ISort Time  MSort Time  Key Comp - ISort  Key Comp - MSort\n",
       "Sorted - Ascending    0.002987    0.033416            9999.0           64608.0"
      ]
     },
     "metadata": {},
     "output_type": "display_data"
    }
   ],
   "source": [
    "data = compare_time('ascending_10power4')\n",
    "data = pd.DataFrame(list(data), index=columns, columns=[index[1]]).transpose()\n",
    "display(data)\n",
    "df_10power4 = df_10power4.append(data)"
   ]
  },
  {
   "cell_type": "code",
   "execution_count": 30,
   "metadata": {},
   "outputs": [
    {
     "name": "stdout",
     "output_type": "stream",
     "text": [
      "Time taken for <function insertionSort at 0x000001BB836F0EA0> to execute [descending_10power4] was:11.666313171386719\n",
      "<function insertionSort at 0x000001BB836F0EA0> list sorted correctly: True\n",
      "\n",
      "Time taken for <function mergeSort at 0x000001BB836F0D08> to execute [descending_10power4] was:0.037908077239990234\n",
      "<function mergeSort at 0x000001BB836F0D08> list sorted correctly: True\n",
      "\n",
      "InsertionSort has 724.4812195687457 times more key comparisons compared to MergeSort.\n",
      "MergeSort is 307.75270129184014 times faster than InsertionSort.\n"
     ]
    },
    {
     "data": {
      "text/html": [
       "<div>\n",
       "<style scoped>\n",
       "    .dataframe tbody tr th:only-of-type {\n",
       "        vertical-align: middle;\n",
       "    }\n",
       "\n",
       "    .dataframe tbody tr th {\n",
       "        vertical-align: top;\n",
       "    }\n",
       "\n",
       "    .dataframe thead th {\n",
       "        text-align: right;\n",
       "    }\n",
       "</style>\n",
       "<table border=\"1\" class=\"dataframe\">\n",
       "  <thead>\n",
       "    <tr style=\"text-align: right;\">\n",
       "      <th></th>\n",
       "      <th>ISort Time</th>\n",
       "      <th>MSort Time</th>\n",
       "      <th>Key Comp - ISort</th>\n",
       "      <th>Key Comp - MSort</th>\n",
       "    </tr>\n",
       "  </thead>\n",
       "  <tbody>\n",
       "    <tr>\n",
       "      <th>Sorted - Descending</th>\n",
       "      <td>11.666313</td>\n",
       "      <td>0.037908</td>\n",
       "      <td>49995000.0</td>\n",
       "      <td>69008.0</td>\n",
       "    </tr>\n",
       "  </tbody>\n",
       "</table>\n",
       "</div>"
      ],
      "text/plain": [
       "                     ISort Time  MSort Time  Key Comp - ISort  \\\n",
       "Sorted - Descending   11.666313    0.037908        49995000.0   \n",
       "\n",
       "                     Key Comp - MSort  \n",
       "Sorted - Descending           69008.0  "
      ]
     },
     "metadata": {},
     "output_type": "display_data"
    }
   ],
   "source": [
    "data = compare_time('descending_10power4')\n",
    "data = pd.DataFrame(list(data), index=columns, columns=[index[2]]).transpose()\n",
    "display(data)\n",
    "df_10power4 = df_10power4.append(data)"
   ]
  },
  {
   "cell_type": "code",
   "execution_count": 31,
   "metadata": {},
   "outputs": [
    {
     "name": "stdout",
     "output_type": "stream",
     "text": [
      "df_10power4: \n"
     ]
    },
    {
     "data": {
      "text/html": [
       "<div>\n",
       "<style scoped>\n",
       "    .dataframe tbody tr th:only-of-type {\n",
       "        vertical-align: middle;\n",
       "    }\n",
       "\n",
       "    .dataframe tbody tr th {\n",
       "        vertical-align: top;\n",
       "    }\n",
       "\n",
       "    .dataframe thead th {\n",
       "        text-align: right;\n",
       "    }\n",
       "</style>\n",
       "<table border=\"1\" class=\"dataframe\">\n",
       "  <thead>\n",
       "    <tr style=\"text-align: right;\">\n",
       "      <th></th>\n",
       "      <th>ISort Time</th>\n",
       "      <th>MSort Time</th>\n",
       "      <th>Key Comp - ISort</th>\n",
       "      <th>Key Comp - MSort</th>\n",
       "    </tr>\n",
       "  </thead>\n",
       "  <tbody>\n",
       "    <tr>\n",
       "      <th>Random</th>\n",
       "      <td>5.845461</td>\n",
       "      <td>0.054862</td>\n",
       "      <td>25115238.0</td>\n",
       "      <td>120395.0</td>\n",
       "    </tr>\n",
       "    <tr>\n",
       "      <th>Sorted - Ascending</th>\n",
       "      <td>0.002987</td>\n",
       "      <td>0.033416</td>\n",
       "      <td>9999.0</td>\n",
       "      <td>64608.0</td>\n",
       "    </tr>\n",
       "    <tr>\n",
       "      <th>Sorted - Descending</th>\n",
       "      <td>11.666313</td>\n",
       "      <td>0.037908</td>\n",
       "      <td>49995000.0</td>\n",
       "      <td>69008.0</td>\n",
       "    </tr>\n",
       "  </tbody>\n",
       "</table>\n",
       "</div>"
      ],
      "text/plain": [
       "                     ISort Time  MSort Time  Key Comp - ISort  \\\n",
       "Random                 5.845461    0.054862        25115238.0   \n",
       "Sorted - Ascending     0.002987    0.033416            9999.0   \n",
       "Sorted - Descending   11.666313    0.037908        49995000.0   \n",
       "\n",
       "                     Key Comp - MSort  \n",
       "Random                       120395.0  \n",
       "Sorted - Ascending            64608.0  \n",
       "Sorted - Descending           69008.0  "
      ]
     },
     "metadata": {},
     "output_type": "display_data"
    }
   ],
   "source": [
    "df_10power4.to_csv('Data/df_10power4.csv')\n",
    "print(\"df_10power4: \")\n",
    "display(df_10power4)"
   ]
  },
  {
   "cell_type": "markdown",
   "metadata": {},
   "source": [
    "# 10^5 - Random, Sorted (Ascending), Sorted (Descending)"
   ]
  },
  {
   "cell_type": "code",
   "execution_count": 32,
   "metadata": {},
   "outputs": [
    {
     "name": "stdout",
     "output_type": "stream",
     "text": [
      "Time taken for <function insertionSort at 0x000001BB836F0EA0> to execute [random_10power5] was:601.1285212039948\n",
      "<function insertionSort at 0x000001BB836F0EA0> list sorted correctly: True\n",
      "\n",
      "Time taken for <function mergeSort at 0x000001BB836F0D08> to execute [random_10power5] was:0.660301923751831\n",
      "<function mergeSort at 0x000001BB836F0D08> list sorted correctly: True\n",
      "\n",
      "InsertionSort has 1630.2516260014424 times more key comparisons compared to MergeSort.\n",
      "MergeSort is 910.3843250802399 times faster than InsertionSort.\n"
     ]
    },
    {
     "data": {
      "text/html": [
       "<div>\n",
       "<style scoped>\n",
       "    .dataframe tbody tr th:only-of-type {\n",
       "        vertical-align: middle;\n",
       "    }\n",
       "\n",
       "    .dataframe tbody tr th {\n",
       "        vertical-align: top;\n",
       "    }\n",
       "\n",
       "    .dataframe thead th {\n",
       "        text-align: right;\n",
       "    }\n",
       "</style>\n",
       "<table border=\"1\" class=\"dataframe\">\n",
       "  <thead>\n",
       "    <tr style=\"text-align: right;\">\n",
       "      <th></th>\n",
       "      <th>ISort Time</th>\n",
       "      <th>MSort Time</th>\n",
       "      <th>Key Comp - ISort</th>\n",
       "      <th>Key Comp - MSort</th>\n",
       "    </tr>\n",
       "  </thead>\n",
       "  <tbody>\n",
       "    <tr>\n",
       "      <th>Random</th>\n",
       "      <td>601.128521</td>\n",
       "      <td>0.660302</td>\n",
       "      <td>2.504529e+09</td>\n",
       "      <td>1536284.0</td>\n",
       "    </tr>\n",
       "  </tbody>\n",
       "</table>\n",
       "</div>"
      ],
      "text/plain": [
       "        ISort Time  MSort Time  Key Comp - ISort  Key Comp - MSort\n",
       "Random  601.128521    0.660302      2.504529e+09         1536284.0"
      ]
     },
     "metadata": {},
     "output_type": "display_data"
    }
   ],
   "source": [
    "data = compare_time('random_10power5')\n",
    "data = pd.DataFrame(list(data), index=columns, columns=[index[0]]).transpose()\n",
    "display(data)\n",
    "df_10power5 = df_10power5.append(data)"
   ]
  },
  {
   "cell_type": "code",
   "execution_count": 33,
   "metadata": {},
   "outputs": [
    {
     "name": "stdout",
     "output_type": "stream",
     "text": [
      "Time taken for <function insertionSort at 0x000001BB836F0EA0> to execute [ascending_10power5] was:0.01615595817565918\n",
      "<function insertionSort at 0x000001BB836F0EA0> list sorted correctly: True\n",
      "\n",
      "Time taken for <function mergeSort at 0x000001BB836F0D08> to execute [ascending_10power5] was:0.36182498931884766\n",
      "<function mergeSort at 0x000001BB836F0D08> list sorted correctly: True\n",
      "\n",
      "MergeSort has 8.150321503215032 times more key comparisons compared to InsertionSort.\n",
      "InsertionSort is 22.39576169886221 times faster than MergeSort.\n"
     ]
    },
    {
     "data": {
      "text/html": [
       "<div>\n",
       "<style scoped>\n",
       "    .dataframe tbody tr th:only-of-type {\n",
       "        vertical-align: middle;\n",
       "    }\n",
       "\n",
       "    .dataframe tbody tr th {\n",
       "        vertical-align: top;\n",
       "    }\n",
       "\n",
       "    .dataframe thead th {\n",
       "        text-align: right;\n",
       "    }\n",
       "</style>\n",
       "<table border=\"1\" class=\"dataframe\">\n",
       "  <thead>\n",
       "    <tr style=\"text-align: right;\">\n",
       "      <th></th>\n",
       "      <th>ISort Time</th>\n",
       "      <th>MSort Time</th>\n",
       "      <th>Key Comp - ISort</th>\n",
       "      <th>Key Comp - MSort</th>\n",
       "    </tr>\n",
       "  </thead>\n",
       "  <tbody>\n",
       "    <tr>\n",
       "      <th>Sorted - Ascending</th>\n",
       "      <td>0.016156</td>\n",
       "      <td>0.361825</td>\n",
       "      <td>99999.0</td>\n",
       "      <td>815024.0</td>\n",
       "    </tr>\n",
       "  </tbody>\n",
       "</table>\n",
       "</div>"
      ],
      "text/plain": [
       "                    ISort Time  MSort Time  Key Comp - ISort  Key Comp - MSort\n",
       "Sorted - Ascending    0.016156    0.361825           99999.0          815024.0"
      ]
     },
     "metadata": {},
     "output_type": "display_data"
    }
   ],
   "source": [
    "data = compare_time('ascending_10power5')\n",
    "data = pd.DataFrame(list(data), index=columns, columns=[index[1]]).transpose()\n",
    "display(data)\n",
    "df_10power5 = df_10power5.append(data)"
   ]
  },
  {
   "cell_type": "code",
   "execution_count": 34,
   "metadata": {},
   "outputs": [
    {
     "name": "stdout",
     "output_type": "stream",
     "text": [
      "Time taken for <function insertionSort at 0x000001BB836F0EA0> to execute [descending_10power5] was:1138.8862054347992\n",
      "<function insertionSort at 0x000001BB836F0EA0> list sorted correctly: True\n",
      "\n",
      "Time taken for <function mergeSort at 0x000001BB836F0D08> to execute [descending_10power5] was:0.4792306423187256\n",
      "<function mergeSort at 0x000001BB836F0D08> list sorted correctly: True\n",
      "\n",
      "InsertionSort has 5855.400607094006 times more key comparisons compared to MergeSort.\n",
      "MergeSort is 2376.4886984779896 times faster than InsertionSort.\n"
     ]
    },
    {
     "data": {
      "text/html": [
       "<div>\n",
       "<style scoped>\n",
       "    .dataframe tbody tr th:only-of-type {\n",
       "        vertical-align: middle;\n",
       "    }\n",
       "\n",
       "    .dataframe tbody tr th {\n",
       "        vertical-align: top;\n",
       "    }\n",
       "\n",
       "    .dataframe thead th {\n",
       "        text-align: right;\n",
       "    }\n",
       "</style>\n",
       "<table border=\"1\" class=\"dataframe\">\n",
       "  <thead>\n",
       "    <tr style=\"text-align: right;\">\n",
       "      <th></th>\n",
       "      <th>ISort Time</th>\n",
       "      <th>MSort Time</th>\n",
       "      <th>Key Comp - ISort</th>\n",
       "      <th>Key Comp - MSort</th>\n",
       "    </tr>\n",
       "  </thead>\n",
       "  <tbody>\n",
       "    <tr>\n",
       "      <th>Sorted - Descending</th>\n",
       "      <td>1138.886205</td>\n",
       "      <td>0.479231</td>\n",
       "      <td>4.999950e+09</td>\n",
       "      <td>853904.0</td>\n",
       "    </tr>\n",
       "  </tbody>\n",
       "</table>\n",
       "</div>"
      ],
      "text/plain": [
       "                      ISort Time  MSort Time  Key Comp - ISort  \\\n",
       "Sorted - Descending  1138.886205    0.479231      4.999950e+09   \n",
       "\n",
       "                     Key Comp - MSort  \n",
       "Sorted - Descending          853904.0  "
      ]
     },
     "metadata": {},
     "output_type": "display_data"
    }
   ],
   "source": [
    "data = compare_time('descending_10power5')\n",
    "data = pd.DataFrame(list(data), index=columns, columns=[index[2]]).transpose()\n",
    "display(data)\n",
    "df_10power5 = df_10power5.append(data)"
   ]
  },
  {
   "cell_type": "code",
   "execution_count": 35,
   "metadata": {},
   "outputs": [
    {
     "name": "stdout",
     "output_type": "stream",
     "text": [
      "df_10power5: \n"
     ]
    },
    {
     "data": {
      "text/html": [
       "<div>\n",
       "<style scoped>\n",
       "    .dataframe tbody tr th:only-of-type {\n",
       "        vertical-align: middle;\n",
       "    }\n",
       "\n",
       "    .dataframe tbody tr th {\n",
       "        vertical-align: top;\n",
       "    }\n",
       "\n",
       "    .dataframe thead th {\n",
       "        text-align: right;\n",
       "    }\n",
       "</style>\n",
       "<table border=\"1\" class=\"dataframe\">\n",
       "  <thead>\n",
       "    <tr style=\"text-align: right;\">\n",
       "      <th></th>\n",
       "      <th>ISort Time</th>\n",
       "      <th>MSort Time</th>\n",
       "      <th>Key Comp - ISort</th>\n",
       "      <th>Key Comp - MSort</th>\n",
       "    </tr>\n",
       "  </thead>\n",
       "  <tbody>\n",
       "    <tr>\n",
       "      <th>Random</th>\n",
       "      <td>601.128521</td>\n",
       "      <td>0.660302</td>\n",
       "      <td>2.504529e+09</td>\n",
       "      <td>1536284.0</td>\n",
       "    </tr>\n",
       "    <tr>\n",
       "      <th>Sorted - Ascending</th>\n",
       "      <td>0.016156</td>\n",
       "      <td>0.361825</td>\n",
       "      <td>9.999900e+04</td>\n",
       "      <td>815024.0</td>\n",
       "    </tr>\n",
       "    <tr>\n",
       "      <th>Sorted - Descending</th>\n",
       "      <td>1138.886205</td>\n",
       "      <td>0.479231</td>\n",
       "      <td>4.999950e+09</td>\n",
       "      <td>853904.0</td>\n",
       "    </tr>\n",
       "  </tbody>\n",
       "</table>\n",
       "</div>"
      ],
      "text/plain": [
       "                      ISort Time  MSort Time  Key Comp - ISort  \\\n",
       "Random                601.128521    0.660302      2.504529e+09   \n",
       "Sorted - Ascending      0.016156    0.361825      9.999900e+04   \n",
       "Sorted - Descending  1138.886205    0.479231      4.999950e+09   \n",
       "\n",
       "                     Key Comp - MSort  \n",
       "Random                      1536284.0  \n",
       "Sorted - Ascending           815024.0  \n",
       "Sorted - Descending          853904.0  "
      ]
     },
     "metadata": {},
     "output_type": "display_data"
    }
   ],
   "source": [
    "df_10power5.to_csv('Data/df_10power5.csv')\n",
    "print(\"df_10power5: \")\n",
    "display(df_10power5)"
   ]
  },
  {
   "cell_type": "markdown",
   "metadata": {},
   "source": [
    "# 250,000 - Random, Sorted (Ascending), Sorted (Descending)"
   ]
  },
  {
   "cell_type": "code",
   "execution_count": 58,
   "metadata": {},
   "outputs": [
    {
     "name": "stdout",
     "output_type": "stream",
     "text": [
      "Time taken for <function insertionSort at 0x000001BB836F0EA0> to execute [random_250000] was:3870.1381731033325\n",
      "<function insertionSort at 0x000001BB836F0EA0> list sorted correctly: True\n",
      "\n",
      "Time taken for <function mergeSort at 0x000001BB836F0D08> to execute [random_250000] was:1.9779715538024902\n",
      "<function mergeSort at 0x000001BB836F0D08> list sorted correctly: True\n",
      "\n",
      "InsertionSort has 3744.3489248098476 times more key comparisons compared to MergeSort.\n",
      "MergeSort is 1956.6197328082424 times faster than InsertionSort.\n"
     ]
    },
    {
     "data": {
      "text/html": [
       "<div>\n",
       "<style scoped>\n",
       "    .dataframe tbody tr th:only-of-type {\n",
       "        vertical-align: middle;\n",
       "    }\n",
       "\n",
       "    .dataframe tbody tr th {\n",
       "        vertical-align: top;\n",
       "    }\n",
       "\n",
       "    .dataframe thead th {\n",
       "        text-align: right;\n",
       "    }\n",
       "</style>\n",
       "<table border=\"1\" class=\"dataframe\">\n",
       "  <thead>\n",
       "    <tr style=\"text-align: right;\">\n",
       "      <th></th>\n",
       "      <th>ISort Time</th>\n",
       "      <th>MSort Time</th>\n",
       "      <th>Key Comp - ISort</th>\n",
       "      <th>Key Comp - MSort</th>\n",
       "    </tr>\n",
       "  </thead>\n",
       "  <tbody>\n",
       "    <tr>\n",
       "      <th>Random</th>\n",
       "      <td>3870.138173</td>\n",
       "      <td>1.977972</td>\n",
       "      <td>1.561030e+10</td>\n",
       "      <td>4169030.0</td>\n",
       "    </tr>\n",
       "  </tbody>\n",
       "</table>\n",
       "</div>"
      ],
      "text/plain": [
       "         ISort Time  MSort Time  Key Comp - ISort  Key Comp - MSort\n",
       "Random  3870.138173    1.977972      1.561030e+10         4169030.0"
      ]
     },
     "metadata": {},
     "output_type": "display_data"
    }
   ],
   "source": [
    "data = compare_time('random_250000')\n",
    "data = pd.DataFrame(list(data), index=columns, columns=[index[0]]).transpose()\n",
    "display(data)\n",
    "df_250000 = df_250000.append(data)"
   ]
  },
  {
   "cell_type": "code",
   "execution_count": 59,
   "metadata": {},
   "outputs": [
    {
     "name": "stdout",
     "output_type": "stream",
     "text": [
      "Time taken for <function insertionSort at 0x000001BB836F0EA0> to execute [ascending_250000] was:0.08776521682739258\n",
      "<function insertionSort at 0x000001BB836F0EA0> list sorted correctly: True\n",
      "\n",
      "Time taken for <function mergeSort at 0x000001BB836F0D08> to execute [ascending_250000] was:1.0662541389465332\n",
      "<function mergeSort at 0x000001BB836F0D08> list sorted correctly: True\n",
      "\n",
      "MergeSort has 8.88502754011016 times more key comparisons compared to InsertionSort.\n",
      "InsertionSort is 12.148937557387114 times faster than MergeSort.\n"
     ]
    },
    {
     "data": {
      "text/html": [
       "<div>\n",
       "<style scoped>\n",
       "    .dataframe tbody tr th:only-of-type {\n",
       "        vertical-align: middle;\n",
       "    }\n",
       "\n",
       "    .dataframe tbody tr th {\n",
       "        vertical-align: top;\n",
       "    }\n",
       "\n",
       "    .dataframe thead th {\n",
       "        text-align: right;\n",
       "    }\n",
       "</style>\n",
       "<table border=\"1\" class=\"dataframe\">\n",
       "  <thead>\n",
       "    <tr style=\"text-align: right;\">\n",
       "      <th></th>\n",
       "      <th>ISort Time</th>\n",
       "      <th>MSort Time</th>\n",
       "      <th>Key Comp - ISort</th>\n",
       "      <th>Key Comp - MSort</th>\n",
       "    </tr>\n",
       "  </thead>\n",
       "  <tbody>\n",
       "    <tr>\n",
       "      <th>Sorted - Ascending</th>\n",
       "      <td>0.087765</td>\n",
       "      <td>1.066254</td>\n",
       "      <td>249999.0</td>\n",
       "      <td>2221248.0</td>\n",
       "    </tr>\n",
       "  </tbody>\n",
       "</table>\n",
       "</div>"
      ],
      "text/plain": [
       "                    ISort Time  MSort Time  Key Comp - ISort  Key Comp - MSort\n",
       "Sorted - Ascending    0.087765    1.066254          249999.0         2221248.0"
      ]
     },
     "metadata": {},
     "output_type": "display_data"
    }
   ],
   "source": [
    "data = compare_time('ascending_250000')\n",
    "data = pd.DataFrame(list(data), index=columns, columns=[index[1]]).transpose()\n",
    "display(data)\n",
    "df_250000 = df_250000.append(data)"
   ]
  },
  {
   "cell_type": "code",
   "execution_count": 60,
   "metadata": {},
   "outputs": [
    {
     "name": "stdout",
     "output_type": "stream",
     "text": [
      "Time taken for <function insertionSort at 0x000001BB836F0EA0> to execute [descending_250000] was:7673.973863840103\n",
      "<function insertionSort at 0x000001BB836F0EA0> list sorted correctly: True\n",
      "\n",
      "Time taken for <function mergeSort at 0x000001BB836F0D08> to execute [descending_250000] was:1.206362009048462\n",
      "<function mergeSort at 0x000001BB836F0D08> list sorted correctly: True\n",
      "\n",
      "InsertionSort has 13787.066400542131 times more key comparisons compared to MergeSort.\n",
      "MergeSort is 6361.25292928702 times faster than InsertionSort.\n"
     ]
    },
    {
     "data": {
      "text/html": [
       "<div>\n",
       "<style scoped>\n",
       "    .dataframe tbody tr th:only-of-type {\n",
       "        vertical-align: middle;\n",
       "    }\n",
       "\n",
       "    .dataframe tbody tr th {\n",
       "        vertical-align: top;\n",
       "    }\n",
       "\n",
       "    .dataframe thead th {\n",
       "        text-align: right;\n",
       "    }\n",
       "</style>\n",
       "<table border=\"1\" class=\"dataframe\">\n",
       "  <thead>\n",
       "    <tr style=\"text-align: right;\">\n",
       "      <th></th>\n",
       "      <th>ISort Time</th>\n",
       "      <th>MSort Time</th>\n",
       "      <th>Key Comp - ISort</th>\n",
       "      <th>Key Comp - MSort</th>\n",
       "    </tr>\n",
       "  </thead>\n",
       "  <tbody>\n",
       "    <tr>\n",
       "      <th>Sorted - Descending</th>\n",
       "      <td>7673.973864</td>\n",
       "      <td>1.206362</td>\n",
       "      <td>3.124988e+10</td>\n",
       "      <td>2266608.0</td>\n",
       "    </tr>\n",
       "  </tbody>\n",
       "</table>\n",
       "</div>"
      ],
      "text/plain": [
       "                      ISort Time  MSort Time  Key Comp - ISort  \\\n",
       "Sorted - Descending  7673.973864    1.206362      3.124988e+10   \n",
       "\n",
       "                     Key Comp - MSort  \n",
       "Sorted - Descending         2266608.0  "
      ]
     },
     "metadata": {},
     "output_type": "display_data"
    }
   ],
   "source": [
    "data = compare_time('descending_250000')\n",
    "data = pd.DataFrame(list(data), index=columns, columns=[index[2]]).transpose()\n",
    "display(data)\n",
    "df_250000 = df_250000.append(data)"
   ]
  },
  {
   "cell_type": "code",
   "execution_count": 61,
   "metadata": {},
   "outputs": [
    {
     "name": "stdout",
     "output_type": "stream",
     "text": [
      "df_250000: \n"
     ]
    },
    {
     "data": {
      "text/html": [
       "<div>\n",
       "<style scoped>\n",
       "    .dataframe tbody tr th:only-of-type {\n",
       "        vertical-align: middle;\n",
       "    }\n",
       "\n",
       "    .dataframe tbody tr th {\n",
       "        vertical-align: top;\n",
       "    }\n",
       "\n",
       "    .dataframe thead th {\n",
       "        text-align: right;\n",
       "    }\n",
       "</style>\n",
       "<table border=\"1\" class=\"dataframe\">\n",
       "  <thead>\n",
       "    <tr style=\"text-align: right;\">\n",
       "      <th></th>\n",
       "      <th>ISort Time</th>\n",
       "      <th>MSort Time</th>\n",
       "      <th>Key Comp - ISort</th>\n",
       "      <th>Key Comp - MSort</th>\n",
       "    </tr>\n",
       "  </thead>\n",
       "  <tbody>\n",
       "    <tr>\n",
       "      <th>Random</th>\n",
       "      <td>3870.138173</td>\n",
       "      <td>1.977972</td>\n",
       "      <td>1.561030e+10</td>\n",
       "      <td>4169030.0</td>\n",
       "    </tr>\n",
       "    <tr>\n",
       "      <th>Sorted - Ascending</th>\n",
       "      <td>0.087765</td>\n",
       "      <td>1.066254</td>\n",
       "      <td>2.499990e+05</td>\n",
       "      <td>2221248.0</td>\n",
       "    </tr>\n",
       "    <tr>\n",
       "      <th>Sorted - Descending</th>\n",
       "      <td>7673.973864</td>\n",
       "      <td>1.206362</td>\n",
       "      <td>3.124988e+10</td>\n",
       "      <td>2266608.0</td>\n",
       "    </tr>\n",
       "  </tbody>\n",
       "</table>\n",
       "</div>"
      ],
      "text/plain": [
       "                      ISort Time  MSort Time  Key Comp - ISort  \\\n",
       "Random               3870.138173    1.977972      1.561030e+10   \n",
       "Sorted - Ascending      0.087765    1.066254      2.499990e+05   \n",
       "Sorted - Descending  7673.973864    1.206362      3.124988e+10   \n",
       "\n",
       "                     Key Comp - MSort  \n",
       "Random                      4169030.0  \n",
       "Sorted - Ascending          2221248.0  \n",
       "Sorted - Descending         2266608.0  "
      ]
     },
     "metadata": {},
     "output_type": "display_data"
    }
   ],
   "source": [
    "df_250000.to_csv('Data/df_250000.csv')\n",
    "print(\"df_250000: \")\n",
    "display(df_250000)"
   ]
  },
  {
   "cell_type": "markdown",
   "metadata": {},
   "source": [
    "# 500,000 - Random, Sorted (Ascending), Sorted (Descending)"
   ]
  },
  {
   "cell_type": "code",
   "execution_count": 62,
   "metadata": {},
   "outputs": [
    {
     "name": "stdout",
     "output_type": "stream",
     "text": [
      "Time taken for <function insertionSort at 0x000001BB836F0EA0> to execute [random_500000] was:15258.94521522522\n",
      "<function insertionSort at 0x000001BB836F0EA0> list sorted correctly: True\n",
      "\n",
      "Time taken for <function mergeSort at 0x000001BB836F0D08> to execute [random_500000] was:3.803006410598755\n",
      "<function mergeSort at 0x000001BB836F0D08> list sorted correctly: True\n",
      "\n",
      "InsertionSort has 7075.803633611209 times more key comparisons compared to MergeSort.\n",
      "MergeSort is 4012.337495066913 times faster than InsertionSort.\n"
     ]
    },
    {
     "data": {
      "text/html": [
       "<div>\n",
       "<style scoped>\n",
       "    .dataframe tbody tr th:only-of-type {\n",
       "        vertical-align: middle;\n",
       "    }\n",
       "\n",
       "    .dataframe tbody tr th {\n",
       "        vertical-align: top;\n",
       "    }\n",
       "\n",
       "    .dataframe thead th {\n",
       "        text-align: right;\n",
       "    }\n",
       "</style>\n",
       "<table border=\"1\" class=\"dataframe\">\n",
       "  <thead>\n",
       "    <tr style=\"text-align: right;\">\n",
       "      <th></th>\n",
       "      <th>ISort Time</th>\n",
       "      <th>MSort Time</th>\n",
       "      <th>Key Comp - ISort</th>\n",
       "      <th>Key Comp - MSort</th>\n",
       "    </tr>\n",
       "  </thead>\n",
       "  <tbody>\n",
       "    <tr>\n",
       "      <th>Random</th>\n",
       "      <td>15258.945215</td>\n",
       "      <td>3.803006</td>\n",
       "      <td>6.253000e+10</td>\n",
       "      <td>8837159.0</td>\n",
       "    </tr>\n",
       "  </tbody>\n",
       "</table>\n",
       "</div>"
      ],
      "text/plain": [
       "          ISort Time  MSort Time  Key Comp - ISort  Key Comp - MSort\n",
       "Random  15258.945215    3.803006      6.253000e+10         8837159.0"
      ]
     },
     "metadata": {},
     "output_type": "display_data"
    }
   ],
   "source": [
    "data = compare_time('random_500000')\n",
    "data = pd.DataFrame(list(data), index=columns, columns=[index[0]]).transpose()\n",
    "display(data)\n",
    "df_500000 = df_500000.append(data)"
   ]
  },
  {
   "cell_type": "code",
   "execution_count": 63,
   "metadata": {},
   "outputs": [
    {
     "name": "stdout",
     "output_type": "stream",
     "text": [
      "Time taken for <function insertionSort at 0x000001BB836F0EA0> to execute [ascending_500000] was:0.15621161460876465\n",
      "<function insertionSort at 0x000001BB836F0EA0> list sorted correctly: True\n",
      "\n",
      "Time taken for <function mergeSort at 0x000001BB836F0D08> to execute [ascending_500000] was:2.183473825454712\n",
      "<function mergeSort at 0x000001BB836F0D08> list sorted correctly: True\n",
      "\n",
      "MergeSort has 9.38501077002154 times more key comparisons compared to InsertionSort.\n",
      "InsertionSort is 13.97766632732956 times faster than MergeSort.\n"
     ]
    },
    {
     "data": {
      "text/html": [
       "<div>\n",
       "<style scoped>\n",
       "    .dataframe tbody tr th:only-of-type {\n",
       "        vertical-align: middle;\n",
       "    }\n",
       "\n",
       "    .dataframe tbody tr th {\n",
       "        vertical-align: top;\n",
       "    }\n",
       "\n",
       "    .dataframe thead th {\n",
       "        text-align: right;\n",
       "    }\n",
       "</style>\n",
       "<table border=\"1\" class=\"dataframe\">\n",
       "  <thead>\n",
       "    <tr style=\"text-align: right;\">\n",
       "      <th></th>\n",
       "      <th>ISort Time</th>\n",
       "      <th>MSort Time</th>\n",
       "      <th>Key Comp - ISort</th>\n",
       "      <th>Key Comp - MSort</th>\n",
       "    </tr>\n",
       "  </thead>\n",
       "  <tbody>\n",
       "    <tr>\n",
       "      <th>Sorted - Ascending</th>\n",
       "      <td>0.156212</td>\n",
       "      <td>2.183474</td>\n",
       "      <td>499999.0</td>\n",
       "      <td>4692496.0</td>\n",
       "    </tr>\n",
       "  </tbody>\n",
       "</table>\n",
       "</div>"
      ],
      "text/plain": [
       "                    ISort Time  MSort Time  Key Comp - ISort  Key Comp - MSort\n",
       "Sorted - Ascending    0.156212    2.183474          499999.0         4692496.0"
      ]
     },
     "metadata": {},
     "output_type": "display_data"
    }
   ],
   "source": [
    "data = compare_time('ascending_500000')\n",
    "data = pd.DataFrame(list(data), index=columns, columns=[index[1]]).transpose()\n",
    "display(data)\n",
    "df_500000 = df_500000.append(data)"
   ]
  },
  {
   "cell_type": "code",
   "execution_count": 64,
   "metadata": {},
   "outputs": [
    {
     "name": "stdout",
     "output_type": "stream",
     "text": [
      "Time taken for <function insertionSort at 0x000001BB836F0EA0> to execute [descending_500000] was:28292.12400484085\n",
      "<function insertionSort at 0x000001BB836F0EA0> list sorted correctly: True\n",
      "\n",
      "Time taken for <function mergeSort at 0x000001BB836F0D08> to execute [descending_500000] was:2.526589870452881\n",
      "<function mergeSort at 0x000001BB836F0D08> list sorted correctly: True\n",
      "\n",
      "InsertionSort has 26132.99294867721 times more key comparisons compared to MergeSort.\n",
      "MergeSort is 11197.750903580407 times faster than InsertionSort.\n"
     ]
    },
    {
     "data": {
      "text/html": [
       "<div>\n",
       "<style scoped>\n",
       "    .dataframe tbody tr th:only-of-type {\n",
       "        vertical-align: middle;\n",
       "    }\n",
       "\n",
       "    .dataframe tbody tr th {\n",
       "        vertical-align: top;\n",
       "    }\n",
       "\n",
       "    .dataframe thead th {\n",
       "        text-align: right;\n",
       "    }\n",
       "</style>\n",
       "<table border=\"1\" class=\"dataframe\">\n",
       "  <thead>\n",
       "    <tr style=\"text-align: right;\">\n",
       "      <th></th>\n",
       "      <th>ISort Time</th>\n",
       "      <th>MSort Time</th>\n",
       "      <th>Key Comp - ISort</th>\n",
       "      <th>Key Comp - MSort</th>\n",
       "    </tr>\n",
       "  </thead>\n",
       "  <tbody>\n",
       "    <tr>\n",
       "      <th>Sorted - Descending</th>\n",
       "      <td>28292.124005</td>\n",
       "      <td>2.52659</td>\n",
       "      <td>1.249998e+11</td>\n",
       "      <td>4783216.0</td>\n",
       "    </tr>\n",
       "  </tbody>\n",
       "</table>\n",
       "</div>"
      ],
      "text/plain": [
       "                       ISort Time  MSort Time  Key Comp - ISort  \\\n",
       "Sorted - Descending  28292.124005     2.52659      1.249998e+11   \n",
       "\n",
       "                     Key Comp - MSort  \n",
       "Sorted - Descending         4783216.0  "
      ]
     },
     "metadata": {},
     "output_type": "display_data"
    }
   ],
   "source": [
    "data = compare_time('descending_500000')\n",
    "data = pd.DataFrame(list(data), index=columns, columns=[index[2]]).transpose()\n",
    "display(data)\n",
    "df_500000 = df_500000.append(data)"
   ]
  },
  {
   "cell_type": "code",
   "execution_count": 65,
   "metadata": {},
   "outputs": [
    {
     "name": "stdout",
     "output_type": "stream",
     "text": [
      "df_500000: \n"
     ]
    },
    {
     "data": {
      "text/html": [
       "<div>\n",
       "<style scoped>\n",
       "    .dataframe tbody tr th:only-of-type {\n",
       "        vertical-align: middle;\n",
       "    }\n",
       "\n",
       "    .dataframe tbody tr th {\n",
       "        vertical-align: top;\n",
       "    }\n",
       "\n",
       "    .dataframe thead th {\n",
       "        text-align: right;\n",
       "    }\n",
       "</style>\n",
       "<table border=\"1\" class=\"dataframe\">\n",
       "  <thead>\n",
       "    <tr style=\"text-align: right;\">\n",
       "      <th></th>\n",
       "      <th>ISort Time</th>\n",
       "      <th>MSort Time</th>\n",
       "      <th>Key Comp - ISort</th>\n",
       "      <th>Key Comp - MSort</th>\n",
       "    </tr>\n",
       "  </thead>\n",
       "  <tbody>\n",
       "    <tr>\n",
       "      <th>Random</th>\n",
       "      <td>15258.945215</td>\n",
       "      <td>3.803006</td>\n",
       "      <td>6.253000e+10</td>\n",
       "      <td>8837159.0</td>\n",
       "    </tr>\n",
       "    <tr>\n",
       "      <th>Sorted - Ascending</th>\n",
       "      <td>0.156212</td>\n",
       "      <td>2.183474</td>\n",
       "      <td>4.999990e+05</td>\n",
       "      <td>4692496.0</td>\n",
       "    </tr>\n",
       "    <tr>\n",
       "      <th>Sorted - Descending</th>\n",
       "      <td>28292.124005</td>\n",
       "      <td>2.526590</td>\n",
       "      <td>1.249998e+11</td>\n",
       "      <td>4783216.0</td>\n",
       "    </tr>\n",
       "  </tbody>\n",
       "</table>\n",
       "</div>"
      ],
      "text/plain": [
       "                       ISort Time  MSort Time  Key Comp - ISort  \\\n",
       "Random               15258.945215    3.803006      6.253000e+10   \n",
       "Sorted - Ascending       0.156212    2.183474      4.999990e+05   \n",
       "Sorted - Descending  28292.124005    2.526590      1.249998e+11   \n",
       "\n",
       "                     Key Comp - MSort  \n",
       "Random                      8837159.0  \n",
       "Sorted - Ascending          4692496.0  \n",
       "Sorted - Descending         4783216.0  "
      ]
     },
     "metadata": {},
     "output_type": "display_data"
    }
   ],
   "source": [
    "df_500000.to_csv('Data/df_500000.csv')\n",
    "print(\"df_500000: \")\n",
    "display(df_500000)"
   ]
  },
  {
   "cell_type": "markdown",
   "metadata": {},
   "source": [
    "# 750,000 - Random, Sorted (Ascending), Sorted (Descending)"
   ]
  },
  {
   "cell_type": "code",
   "execution_count": null,
   "metadata": {},
   "outputs": [
    {
     "name": "stdout",
     "output_type": "stream",
     "text": [
      "Time taken for <function insertionSort at 0x000001BB836F0EA0> to execute [random_750000] was:34249.12259268761\n",
      "<function insertionSort at 0x000001BB836F0EA0> list sorted correctly: True\n",
      "\n",
      "Time taken for <function mergeSort at 0x000001BB836F0D08> to execute [random_750000] was:6.17048978805542\n",
      "<function mergeSort at 0x000001BB836F0D08> list sorted correctly: True\n",
      "\n",
      "InsertionSort has 10246.417799330955 times more key comparisons compared to MergeSort.\n",
      "MergeSort is 5550.470670737621 times faster than InsertionSort.\n"
     ]
    },
    {
     "data": {
      "text/html": [
       "<div>\n",
       "<style scoped>\n",
       "    .dataframe tbody tr th:only-of-type {\n",
       "        vertical-align: middle;\n",
       "    }\n",
       "\n",
       "    .dataframe tbody tr th {\n",
       "        vertical-align: top;\n",
       "    }\n",
       "\n",
       "    .dataframe thead th {\n",
       "        text-align: right;\n",
       "    }\n",
       "</style>\n",
       "<table border=\"1\" class=\"dataframe\">\n",
       "  <thead>\n",
       "    <tr style=\"text-align: right;\">\n",
       "      <th></th>\n",
       "      <th>ISort Time</th>\n",
       "      <th>MSort Time</th>\n",
       "      <th>Key Comp - ISort</th>\n",
       "      <th>Key Comp - MSort</th>\n",
       "    </tr>\n",
       "  </thead>\n",
       "  <tbody>\n",
       "    <tr>\n",
       "      <th>Random</th>\n",
       "      <td>34249.122593</td>\n",
       "      <td>6.17049</td>\n",
       "      <td>1.404294e+11</td>\n",
       "      <td>13705223.0</td>\n",
       "    </tr>\n",
       "  </tbody>\n",
       "</table>\n",
       "</div>"
      ],
      "text/plain": [
       "          ISort Time  MSort Time  Key Comp - ISort  Key Comp - MSort\n",
       "Random  34249.122593     6.17049      1.404294e+11        13705223.0"
      ]
     },
     "metadata": {},
     "output_type": "display_data"
    }
   ],
   "source": [
    "data = compare_time('random_750000')\n",
    "data = pd.DataFrame(list(data), index=columns, columns=[index[0]]).transpose()\n",
    "display(data)\n",
    "df_750000 = df_750000.append(data)"
   ]
  },
  {
   "cell_type": "code",
   "execution_count": null,
   "metadata": {},
   "outputs": [
    {
     "name": "stdout",
     "output_type": "stream",
     "text": [
      "Time taken for <function insertionSort at 0x000001BB836F0EA0> to execute [ascending_750000] was:0.2732677459716797\n",
      "<function insertionSort at 0x000001BB836F0EA0> list sorted correctly: True\n",
      "\n",
      "Time taken for <function mergeSort at 0x000001BB836F0D08> to execute [ascending_750000] was:3.34903883934021\n",
      "<function mergeSort at 0x000001BB836F0D08> list sorted correctly: True\n",
      "\n",
      "MergeSort has 9.574156765542353 times more key comparisons compared to InsertionSort.\n",
      "InsertionSort is 12.255521878119088 times faster than MergeSort.\n"
     ]
    },
    {
     "data": {
      "text/html": [
       "<div>\n",
       "<style scoped>\n",
       "    .dataframe tbody tr th:only-of-type {\n",
       "        vertical-align: middle;\n",
       "    }\n",
       "\n",
       "    .dataframe tbody tr th {\n",
       "        vertical-align: top;\n",
       "    }\n",
       "\n",
       "    .dataframe thead th {\n",
       "        text-align: right;\n",
       "    }\n",
       "</style>\n",
       "<table border=\"1\" class=\"dataframe\">\n",
       "  <thead>\n",
       "    <tr style=\"text-align: right;\">\n",
       "      <th></th>\n",
       "      <th>ISort Time</th>\n",
       "      <th>MSort Time</th>\n",
       "      <th>Key Comp - ISort</th>\n",
       "      <th>Key Comp - MSort</th>\n",
       "    </tr>\n",
       "  </thead>\n",
       "  <tbody>\n",
       "    <tr>\n",
       "      <th>Sorted - Ascending</th>\n",
       "      <td>0.273268</td>\n",
       "      <td>3.349039</td>\n",
       "      <td>749999.0</td>\n",
       "      <td>7180608.0</td>\n",
       "    </tr>\n",
       "  </tbody>\n",
       "</table>\n",
       "</div>"
      ],
      "text/plain": [
       "                    ISort Time  MSort Time  Key Comp - ISort  Key Comp - MSort\n",
       "Sorted - Ascending    0.273268    3.349039          749999.0         7180608.0"
      ]
     },
     "metadata": {},
     "output_type": "display_data"
    }
   ],
   "source": [
    "data = compare_time('ascending_750000')\n",
    "data = pd.DataFrame(list(data), index=columns, columns=[index[1]]).transpose()\n",
    "display(data)\n",
    "df_750000 = df_750000.append(data)"
   ]
  },
  {
   "cell_type": "code",
   "execution_count": null,
   "metadata": {},
   "outputs": [
    {
     "name": "stdout",
     "output_type": "stream",
     "text": [
      "Time taken for <function insertionSort at 0x000001BB836F0EA0> to execute [descending_750000] was:67335.74497485161\n",
      "<function insertionSort at 0x000001BB836F0EA0> list sorted correctly: True\n",
      "\n",
      "Time taken for <function mergeSort at 0x000001BB836F0D08> to execute [descending_750000] was:3.9375083446502686\n",
      "<function mergeSort at 0x000001BB836F0D08> list sorted correctly: True\n",
      "\n",
      "InsertionSort has 37396.15820942834 times more key comparisons compared to MergeSort.\n",
      "MergeSort is 17101.105338948153 times faster than InsertionSort.\n"
     ]
    },
    {
     "data": {
      "text/html": [
       "<div>\n",
       "<style scoped>\n",
       "    .dataframe tbody tr th:only-of-type {\n",
       "        vertical-align: middle;\n",
       "    }\n",
       "\n",
       "    .dataframe tbody tr th {\n",
       "        vertical-align: top;\n",
       "    }\n",
       "\n",
       "    .dataframe thead th {\n",
       "        text-align: right;\n",
       "    }\n",
       "</style>\n",
       "<table border=\"1\" class=\"dataframe\">\n",
       "  <thead>\n",
       "    <tr style=\"text-align: right;\">\n",
       "      <th></th>\n",
       "      <th>ISort Time</th>\n",
       "      <th>MSort Time</th>\n",
       "      <th>Key Comp - ISort</th>\n",
       "      <th>Key Comp - MSort</th>\n",
       "    </tr>\n",
       "  </thead>\n",
       "  <tbody>\n",
       "    <tr>\n",
       "      <th>Sorted - Descending</th>\n",
       "      <td>67335.744975</td>\n",
       "      <td>3.937508</td>\n",
       "      <td>2.812496e+11</td>\n",
       "      <td>7520816.0</td>\n",
       "    </tr>\n",
       "  </tbody>\n",
       "</table>\n",
       "</div>"
      ],
      "text/plain": [
       "                       ISort Time  MSort Time  Key Comp - ISort  \\\n",
       "Sorted - Descending  67335.744975    3.937508      2.812496e+11   \n",
       "\n",
       "                     Key Comp - MSort  \n",
       "Sorted - Descending         7520816.0  "
      ]
     },
     "metadata": {},
     "output_type": "display_data"
    }
   ],
   "source": [
    "data = compare_time('descending_750000')\n",
    "data = pd.DataFrame(list(data), index=columns, columns=[index[2]]).transpose()\n",
    "display(data)\n",
    "df_750000 = df_750000.append(data)"
   ]
  },
  {
   "cell_type": "code",
   "execution_count": null,
   "metadata": {},
   "outputs": [
    {
     "name": "stdout",
     "output_type": "stream",
     "text": [
      "df_750000: \n"
     ]
    },
    {
     "data": {
      "text/html": [
       "<div>\n",
       "<style scoped>\n",
       "    .dataframe tbody tr th:only-of-type {\n",
       "        vertical-align: middle;\n",
       "    }\n",
       "\n",
       "    .dataframe tbody tr th {\n",
       "        vertical-align: top;\n",
       "    }\n",
       "\n",
       "    .dataframe thead th {\n",
       "        text-align: right;\n",
       "    }\n",
       "</style>\n",
       "<table border=\"1\" class=\"dataframe\">\n",
       "  <thead>\n",
       "    <tr style=\"text-align: right;\">\n",
       "      <th></th>\n",
       "      <th>ISort Time</th>\n",
       "      <th>MSort Time</th>\n",
       "      <th>Key Comp - ISort</th>\n",
       "      <th>Key Comp - MSort</th>\n",
       "    </tr>\n",
       "  </thead>\n",
       "  <tbody>\n",
       "    <tr>\n",
       "      <th>Random</th>\n",
       "      <td>34249.122593</td>\n",
       "      <td>6.170490</td>\n",
       "      <td>1.404294e+11</td>\n",
       "      <td>13705223.0</td>\n",
       "    </tr>\n",
       "    <tr>\n",
       "      <th>Sorted - Ascending</th>\n",
       "      <td>0.273268</td>\n",
       "      <td>3.349039</td>\n",
       "      <td>7.499990e+05</td>\n",
       "      <td>7180608.0</td>\n",
       "    </tr>\n",
       "    <tr>\n",
       "      <th>Sorted - Descending</th>\n",
       "      <td>67335.744975</td>\n",
       "      <td>3.937508</td>\n",
       "      <td>2.812496e+11</td>\n",
       "      <td>7520816.0</td>\n",
       "    </tr>\n",
       "  </tbody>\n",
       "</table>\n",
       "</div>"
      ],
      "text/plain": [
       "                       ISort Time  MSort Time  Key Comp - ISort  \\\n",
       "Random               34249.122593    6.170490      1.404294e+11   \n",
       "Sorted - Ascending       0.273268    3.349039      7.499990e+05   \n",
       "Sorted - Descending  67335.744975    3.937508      2.812496e+11   \n",
       "\n",
       "                     Key Comp - MSort  \n",
       "Random                     13705223.0  \n",
       "Sorted - Ascending          7180608.0  \n",
       "Sorted - Descending         7520816.0  "
      ]
     },
     "metadata": {},
     "output_type": "display_data"
    }
   ],
   "source": [
    "df_750000.to_csv('Data/df_750000.csv')\n",
    "print(\"df_750000: \")\n",
    "display(df_750000)"
   ]
  },
  {
   "cell_type": "markdown",
   "metadata": {},
   "source": [
    "# 10^6 - Random, Sorted (Ascending), Sorted (Descending)"
   ]
  },
  {
   "cell_type": "code",
   "execution_count": null,
   "metadata": {
    "scrolled": true
   },
   "outputs": [],
   "source": [
    "data = compare_time('random_10power6')\n",
    "data = pd.DataFrame(list(data), index=columns, columns=[index[0]]).transpose()\n",
    "display(data)\n",
    "df_10power6 = df_10power6.append(data)"
   ]
  },
  {
   "cell_type": "code",
   "execution_count": null,
   "metadata": {},
   "outputs": [],
   "source": [
    "data = compare_time('ascending_10power6')\n",
    "data = pd.DataFrame(list(data), index=columns, columns=[index[1]]).transpose()\n",
    "display(data)\n",
    "df_10power6 = df_10power6.append(data)"
   ]
  },
  {
   "cell_type": "code",
   "execution_count": null,
   "metadata": {},
   "outputs": [],
   "source": [
    "data = compare_time('descending_10power6')\n",
    "data = pd.DataFrame(list(data), index=columns, columns=[index[2]]).transpose()\n",
    "display(data)\n",
    "df_10power6 = df_10power6.append(data)"
   ]
  },
  {
   "cell_type": "code",
   "execution_count": null,
   "metadata": {},
   "outputs": [],
   "source": [
    "df_10power6.to_csv('Data/df_10power6.csv')\n",
    "print(\"df_10power6: \")\n",
    "display(df_10power6)"
   ]
  },
  {
   "cell_type": "markdown",
   "metadata": {},
   "source": [
    "# Import .csv files we have saved"
   ]
  },
  {
   "cell_type": "code",
   "execution_count": null,
   "metadata": {},
   "outputs": [],
   "source": [
    "df_10power3 = pd.read_csv('Data/df_10power3.csv')\n",
    "df_10power4 = pd.read_csv('Data/df_10power4.csv')\n",
    "df_10power5 = pd.read_csv('Data/df_10power5.csv')\n",
    "df_250000   = pd.read_csv('Data/df_250000.csv')\n",
    "df_500000   = pd.read_csv('Data/df_500000.csv')\n",
    "# df_750000   = pd.read_csv('Data/df_750000.csv')\n",
    "# df_10power6 = pd.read_csv('Data/df_10power6.csv')\n",
    "print(\"10power3: \")\n",
    "display(df_10power3)\n",
    "print(\"\\n10power4: \")\n",
    "display(df_10power4)\n",
    "print(\"\\n10power5: \")\n",
    "display(df_10power5)\n",
    "print(\"\\n250000: \")\n",
    "display(df_250000)\n",
    "print(\"\\n500000: \")\n",
    "display(df_500000)\n",
    "print(\"\\n750000: \")\n",
    "display(df_750000)\n",
    "# print(\"\\n10power6: \")\n",
    "# display(df_10power6)"
   ]
  },
  {
   "cell_type": "code",
   "execution_count": null,
   "metadata": {},
   "outputs": [],
   "source": []
  }
 ],
 "metadata": {
  "kernelspec": {
   "display_name": "Python 3",
   "language": "python",
   "name": "python3"
  },
  "language_info": {
   "codemirror_mode": {
    "name": "ipython",
    "version": 3
   },
   "file_extension": ".py",
   "mimetype": "text/x-python",
   "name": "python",
   "nbconvert_exporter": "python",
   "pygments_lexer": "ipython3",
   "version": "3.6.8"
  }
 },
 "nbformat": 4,
 "nbformat_minor": 2
}
