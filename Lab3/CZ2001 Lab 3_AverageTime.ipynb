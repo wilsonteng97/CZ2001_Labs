{
 "cells": [
  {
   "cell_type": "markdown",
   "metadata": {},
   "source": [
    "# CZ2001 Lab 3\n",
    "---"
   ]
  },
  {
   "cell_type": "code",
   "execution_count": 1,
   "metadata": {},
   "outputs": [],
   "source": [
    "import random\n",
    "\n",
    "def random_ls_generator(size=1000,sort=0):\n",
    "    \"\"\"sort=1 refers to accending order, \n",
    "       sort=-1 refers to sorting in descending order,\n",
    "       and sort=0 refers to no sorting\"\"\"\n",
    "    random_ls = random.sample(range(1000000), size)\n",
    "    random.shuffle(random_ls)\n",
    "    print(len(random_ls))\n",
    "    return random_ls"
   ]
  },
  {
   "cell_type": "code",
   "execution_count": 2,
   "metadata": {},
   "outputs": [
    {
     "name": "stdout",
     "output_type": "stream",
     "text": [
      "1000\n",
      "10000\n",
      "100000\n",
      "1000000\n"
     ]
    }
   ],
   "source": [
    "# Input Data (1)\n",
    "random_10power3 = random_ls_generator(size=1000)\n",
    "random_10power4 = random_ls_generator(size=10000)\n",
    "random_10power5 = random_ls_generator(size=100000)\n",
    "random_10power6 = random_ls_generator(size=1000000)\n",
    "\n",
    "# Input Data (2)\n",
    "ascending_10power3 = list(range(1000))\n",
    "ascending_10power4 = list(range(10000))\n",
    "ascending_10power5 = list(range(100000))\n",
    "ascending_10power6 = list(range(1000000))\n",
    "\n",
    "# Input Data (3)\n",
    "descending_10power3 = list(reversed(range(1000)))\n",
    "descending_10power4 = list(reversed(range(10000)))\n",
    "descending_10power5 = list(reversed(range(100000)))\n",
    "descending_10power6 = list(reversed(range(1000000)))\n",
    "\n",
    "input_data = {\n",
    "    'random_10power3' : random_10power3,\n",
    "    'random_10power4' : random_10power4,\n",
    "    'random_10power5' : random_10power5,\n",
    "    'random_10power6' : random_10power6,\n",
    "    \n",
    "    'ascending_10power3' : ascending_10power3,\n",
    "    'ascending_10power4' : ascending_10power4,\n",
    "    'ascending_10power5' : ascending_10power5,\n",
    "    'ascending_10power6' : ascending_10power6,\n",
    "    \n",
    "    'descending_10power3' : descending_10power3,\n",
    "    'descending_10power4' : descending_10power4,\n",
    "    'descending_10power5' : descending_10power5,\n",
    "    'descending_10power6' : descending_10power6,\n",
    "}"
   ]
  },
  {
   "cell_type": "code",
   "execution_count": 3,
   "metadata": {},
   "outputs": [],
   "source": [
    "from numba import jit"
   ]
  },
  {
   "cell_type": "code",
   "execution_count": 4,
   "metadata": {},
   "outputs": [
    {
     "data": {
      "text/plain": [
       "([1, 2, 3, 4, 5], 10)"
      ]
     },
     "execution_count": 4,
     "metadata": {},
     "output_type": "execute_result"
    }
   ],
   "source": [
    "arr = [5,4,3,2,1]\n",
    "##arr = [1, 2, 3, 4, 5]\n",
    "\n",
    "# @jit(nopython=True)\n",
    "def insertionSort(arr):\n",
    "    key_comparisons = 0\n",
    "    for i in range(len(arr)):\n",
    "        for j in range(i,0,-1):\n",
    "            key_comparisons+=1\n",
    "            if arr[j] < arr[j-1]:\n",
    "                temp = arr[j]\n",
    "                arr[j] = arr[j-1]\n",
    "                arr[j-1] = temp\n",
    "            else:\n",
    "                break\n",
    "    return arr, key_comparisons\n",
    "\n",
    "insertionSort(arr)"
   ]
  },
  {
   "cell_type": "code",
   "execution_count": 5,
   "metadata": {},
   "outputs": [
    {
     "data": {
      "text/plain": [
       "([1, 2, 3, 4, 5], 5)"
      ]
     },
     "execution_count": 5,
     "metadata": {},
     "output_type": "execute_result"
    }
   ],
   "source": [
    "# arr = descending_10power3\n",
    "# arr = [4,0,6,2,5,1,7,6]\n",
    "\n",
    "# @jit()\n",
    "def merge(arr1, arr2):\n",
    "    key_comparisons = 0\n",
    "    merged_list = []\n",
    "\n",
    "#     print(arr1, arr2)\n",
    "    if (len(arr1)==0 or len(arr2)==0):\n",
    "        return merged_list, key_comparisons\n",
    "    \n",
    "    idx1 = idx2 = 0\n",
    "    target_len = len(arr1) + len(arr2)\n",
    "    \n",
    "    while(len(merged_list)<target_len):\n",
    "        if (idx1==len(arr1)):\n",
    "            merged_list+=arr2[idx2:]\n",
    "            break\n",
    "        if (idx2==len(arr2)):\n",
    "            merged_list+=arr1[idx1:]\n",
    "            break\n",
    "        \n",
    "        key_comparisons += 1\n",
    "        if (arr1[idx1]<arr2[idx2]):\n",
    "            merged_list.append(arr1[idx1])\n",
    "            idx1+=1\n",
    "        elif (arr1[idx1]>arr2[idx2]):\n",
    "            merged_list.append(arr2[idx2])\n",
    "            idx2+=1\n",
    "        else: # 1st elements of 2 halves are equal\n",
    "            merged_list.append(arr1[idx1])\n",
    "            merged_list.append(arr2[idx2])\n",
    "            idx1+=1\n",
    "            idx2+=1\n",
    "    return merged_list, key_comparisons\n",
    "\n",
    "def mergeSort(arr):     \n",
    "    if (len(arr)<2):\n",
    "        return arr, 0\n",
    "    else:\n",
    "        mid = len(arr) // 2\n",
    "        arr1, kc1 = mergeSort(arr[:mid])\n",
    "        arr2, kc2 = mergeSort(arr[mid:])\n",
    "#         print(merge(arr1, arr2))\n",
    "        res_arr, kc = merge(arr1, arr2)\n",
    "    return res_arr, kc+kc1+kc2\n",
    "\n",
    "# arr = [4,0,6,2,5,1,7,6]\n",
    "mergeSort(arr)"
   ]
  },
  {
   "cell_type": "code",
   "execution_count": 6,
   "metadata": {},
   "outputs": [
    {
     "data": {
      "text/plain": [
       "True"
      ]
     },
     "execution_count": 6,
     "metadata": {},
     "output_type": "execute_result"
    }
   ],
   "source": [
    "mergeSort(random_10power3)[0] == sorted(random_10power3)"
   ]
  },
  {
   "cell_type": "code",
   "execution_count": 7,
   "metadata": {},
   "outputs": [
    {
     "name": "stdout",
     "output_type": "stream",
     "text": [
      "hello world\n",
      "0.0\n"
     ]
    }
   ],
   "source": [
    "# mtd to measure time taken\n",
    "import time\n",
    "start = time.process_time()\n",
    "print(\"hello world\")\n",
    "print(time.process_time() - start)"
   ]
  },
  {
   "cell_type": "code",
   "execution_count": 8,
   "metadata": {},
   "outputs": [],
   "source": [
    "def time_function(function, arg):   \n",
    "    arg_list = input_data[arg].copy()\n",
    "    \n",
    "    cycles = 10\n",
    "    start = time.time()\n",
    "    for i in range(cycles):\n",
    "        arg_list = input_data[arg].copy()\n",
    "        res, key_comparisons = function(arg_list)\n",
    "    time_taken = time.time() - start\n",
    "    time_taken /= cycles\n",
    "    \n",
    "    print(\"Time taken for \" + str(function) + \" to execute [\" + arg + \"] was:\" + str(time_taken))\n",
    "    print(str(function) + \" list sorted correctly: \" + str(res == sorted(arg_list)) + \"\\n\")\n",
    "    return time_taken, key_comparisons\n",
    "\n",
    "def compare_time(arg):\n",
    "    insertionSort_time, ISort_key_comparisons = time_function(insertionSort, arg)\n",
    "    mergeSort_time, MSort_key_comparisons = time_function(mergeSort, arg)\n",
    "    \n",
    "    # Comparison of Key comparisons\n",
    "    if MSort_key_comparisons>ISort_key_comparisons:\n",
    "        print(\"MergeSort has \" + str(MSort_key_comparisons/ISort_key_comparisons) + \" times more key comparisons compared to InsertionSort.\" )\n",
    "    else:\n",
    "        print(\"InsertionSort has \" + str(ISort_key_comparisons/MSort_key_comparisons) + \" times more key comparisons compared to MergeSort.\" )\n",
    "    \n",
    "    # Comparison of Sort time\n",
    "    if (mergeSort_time==0): # if either time is 0.0, will have error since int not divisible by 0\n",
    "        print(\"MergeSort is too fast\")\n",
    "        return insertionSort_time, mergeSort_time, ISort_key_comparisons, MSort_key_comparisons\n",
    "    elif (insertionSort_time==0):\n",
    "        print(\"InsertionSort is too fast\")\n",
    "        return insertionSort_time, mergeSort_time, ISort_key_comparisons, MSort_key_comparisons\n",
    "    \n",
    "    if mergeSort_time<insertionSort_time:\n",
    "        print(\"MergeSort is \" + str(insertionSort_time/mergeSort_time) + \" times faster than InsertionSort.\" )\n",
    "    else:\n",
    "        print(\"InsertionSort is \" + str(mergeSort_time/insertionSort_time) + \" times faster than MergeSort.\" )\n",
    "    \n",
    "    return insertionSort_time, mergeSort_time, ISort_key_comparisons, MSort_key_comparisons"
   ]
  },
  {
   "cell_type": "markdown",
   "metadata": {},
   "source": [
    "## Initialise DataFrame to store time and key comparison values into a dataframe"
   ]
  },
  {
   "cell_type": "code",
   "execution_count": 9,
   "metadata": {},
   "outputs": [],
   "source": [
    "import pandas as pd  # using pandas dataframe to store values\n",
    "\n",
    "index = ['Random', 'Sorted - Ascending', 'Sorted - Descending']\n",
    "columns = ['ISort Time', 'MSort Time', 'Key Comp - ISort', 'Key Comp - MSort']\n",
    "\n",
    "df_10power3 = pd.DataFrame(index=[], columns=columns)\n",
    "df_10power3 = df_10power3.fillna(0) # with 0s rather than NaNs\n",
    "df_10power3 = df_10power3.astype({columns[0] : 'float64', columns[1] : 'float64'})\n",
    "\n",
    "df_10power4 = pd.DataFrame(index=[], columns=columns)\n",
    "df_10power4 = df_10power4.fillna(0) # with 0s rather than NaNs\n",
    "df_10power4 = df_10power4.astype({columns[0] : 'float64', columns[1] : 'float64'})\n",
    "\n",
    "df_10power5 = pd.DataFrame(index=[], columns=columns)\n",
    "df_10power5 = df_10power5.fillna(0) # with 0s rather than NaNs\n",
    "df_10power5 = df_10power5.astype({columns[0] : 'float64', columns[1] : 'float64'})\n",
    "\n",
    "df_10power6 = pd.DataFrame(index=[], columns=columns)\n",
    "df_10power6 = df_10power6.fillna(0) # with 0s rather than NaNs\n",
    "df_10power6 = df_10power6.astype({columns[0] : 'float64', columns[1] : 'float64'})"
   ]
  },
  {
   "cell_type": "code",
   "execution_count": 44,
   "metadata": {},
   "outputs": [],
   "source": [
    "df_10power4 = pd.DataFrame(index=[], columns=columns)\n",
    "df_10power4 = df_10power4.fillna(0) # with 0s rather than NaNs\n",
    "df_10power4 = df_10power4.astype({columns[0] : 'float64', columns[1] : 'float64'})"
   ]
  },
  {
   "cell_type": "markdown",
   "metadata": {},
   "source": [
    "# 10^3 - Random, Sorted (Ascending), Sorted (Descending)"
   ]
  },
  {
   "cell_type": "code",
   "execution_count": 10,
   "metadata": {
    "scrolled": true
   },
   "outputs": [
    {
     "name": "stdout",
     "output_type": "stream",
     "text": [
      "Time taken for <function insertionSort at 0x000001F43FBBB7B8> to execute [random_10power3] was:0.05575082302093506\n",
      "<function insertionSort at 0x000001F43FBBB7B8> list sorted correctly: True\n",
      "\n",
      "Time taken for <function mergeSort at 0x000001F43FBBBBF8> to execute [random_10power3] was:0.003989315032958985\n",
      "<function mergeSort at 0x000001F43FBBBBF8> list sorted correctly: True\n",
      "\n",
      "InsertionSort has 28.68500229673863 times more key comparisons compared to MergeSort.\n",
      "MergeSort is 13.97503645621668 times faster than InsertionSort.\n"
     ]
    },
    {
     "data": {
      "text/html": [
       "<div>\n",
       "<style scoped>\n",
       "    .dataframe tbody tr th:only-of-type {\n",
       "        vertical-align: middle;\n",
       "    }\n",
       "\n",
       "    .dataframe tbody tr th {\n",
       "        vertical-align: top;\n",
       "    }\n",
       "\n",
       "    .dataframe thead th {\n",
       "        text-align: right;\n",
       "    }\n",
       "</style>\n",
       "<table border=\"1\" class=\"dataframe\">\n",
       "  <thead>\n",
       "    <tr style=\"text-align: right;\">\n",
       "      <th></th>\n",
       "      <th>ISort Time</th>\n",
       "      <th>MSort Time</th>\n",
       "      <th>Key Comp - ISort</th>\n",
       "      <th>Key Comp - MSort</th>\n",
       "    </tr>\n",
       "  </thead>\n",
       "  <tbody>\n",
       "    <tr>\n",
       "      <th>Random</th>\n",
       "      <td>0.055751</td>\n",
       "      <td>0.003989</td>\n",
       "      <td>249789.0</td>\n",
       "      <td>8708.0</td>\n",
       "    </tr>\n",
       "  </tbody>\n",
       "</table>\n",
       "</div>"
      ],
      "text/plain": [
       "        ISort Time  MSort Time  Key Comp - ISort  Key Comp - MSort\n",
       "Random    0.055751    0.003989          249789.0            8708.0"
      ]
     },
     "metadata": {},
     "output_type": "display_data"
    }
   ],
   "source": [
    "data = compare_time('random_10power3')\n",
    "data = pd.DataFrame(list(data), index=columns, columns=[index[0]]).transpose()\n",
    "display(data)\n",
    "df_10power3 = df_10power3.append(data)"
   ]
  },
  {
   "cell_type": "code",
   "execution_count": 11,
   "metadata": {},
   "outputs": [
    {
     "name": "stdout",
     "output_type": "stream",
     "text": [
      "Time taken for <function insertionSort at 0x000001F43FBBB7B8> to execute [ascending_10power3] was:0.00029921531677246094\n",
      "<function insertionSort at 0x000001F43FBBB7B8> list sorted correctly: True\n",
      "\n",
      "Time taken for <function mergeSort at 0x000001F43FBBBBF8> to execute [ascending_10power3] was:0.002792501449584961\n",
      "<function mergeSort at 0x000001F43FBBBBF8> list sorted correctly: True\n",
      "\n",
      "MergeSort has 4.936936936936937 times more key comparisons compared to InsertionSort.\n",
      "InsertionSort is 9.332749003984064 times faster than MergeSort.\n"
     ]
    },
    {
     "data": {
      "text/html": [
       "<div>\n",
       "<style scoped>\n",
       "    .dataframe tbody tr th:only-of-type {\n",
       "        vertical-align: middle;\n",
       "    }\n",
       "\n",
       "    .dataframe tbody tr th {\n",
       "        vertical-align: top;\n",
       "    }\n",
       "\n",
       "    .dataframe thead th {\n",
       "        text-align: right;\n",
       "    }\n",
       "</style>\n",
       "<table border=\"1\" class=\"dataframe\">\n",
       "  <thead>\n",
       "    <tr style=\"text-align: right;\">\n",
       "      <th></th>\n",
       "      <th>ISort Time</th>\n",
       "      <th>MSort Time</th>\n",
       "      <th>Key Comp - ISort</th>\n",
       "      <th>Key Comp - MSort</th>\n",
       "    </tr>\n",
       "  </thead>\n",
       "  <tbody>\n",
       "    <tr>\n",
       "      <th>Sorted - Ascending</th>\n",
       "      <td>0.000299</td>\n",
       "      <td>0.002793</td>\n",
       "      <td>999.0</td>\n",
       "      <td>4932.0</td>\n",
       "    </tr>\n",
       "  </tbody>\n",
       "</table>\n",
       "</div>"
      ],
      "text/plain": [
       "                    ISort Time  MSort Time  Key Comp - ISort  Key Comp - MSort\n",
       "Sorted - Ascending    0.000299    0.002793             999.0            4932.0"
      ]
     },
     "metadata": {},
     "output_type": "display_data"
    }
   ],
   "source": [
    "data = compare_time('ascending_10power3')\n",
    "data = pd.DataFrame(list(data), index=columns, columns=[index[1]]).transpose()\n",
    "display(data)\n",
    "df_10power3 = df_10power3.append(data)"
   ]
  },
  {
   "cell_type": "code",
   "execution_count": 12,
   "metadata": {},
   "outputs": [
    {
     "name": "stdout",
     "output_type": "stream",
     "text": [
      "Time taken for <function insertionSort at 0x000001F43FBBB7B8> to execute [descending_10power3] was:0.10671446323394776\n",
      "<function insertionSort at 0x000001F43FBBB7B8> list sorted correctly: True\n",
      "\n",
      "Time taken for <function mergeSort at 0x000001F43FBBBBF8> to execute [descending_10power3] was:0.0030916929244995117\n",
      "<function mergeSort at 0x000001F43FBBBBF8> list sorted correctly: True\n",
      "\n",
      "InsertionSort has 99.02854877081681 times more key comparisons compared to MergeSort.\n",
      "MergeSort is 34.51651436283015 times faster than InsertionSort.\n"
     ]
    },
    {
     "data": {
      "text/html": [
       "<div>\n",
       "<style scoped>\n",
       "    .dataframe tbody tr th:only-of-type {\n",
       "        vertical-align: middle;\n",
       "    }\n",
       "\n",
       "    .dataframe tbody tr th {\n",
       "        vertical-align: top;\n",
       "    }\n",
       "\n",
       "    .dataframe thead th {\n",
       "        text-align: right;\n",
       "    }\n",
       "</style>\n",
       "<table border=\"1\" class=\"dataframe\">\n",
       "  <thead>\n",
       "    <tr style=\"text-align: right;\">\n",
       "      <th></th>\n",
       "      <th>ISort Time</th>\n",
       "      <th>MSort Time</th>\n",
       "      <th>Key Comp - ISort</th>\n",
       "      <th>Key Comp - MSort</th>\n",
       "    </tr>\n",
       "  </thead>\n",
       "  <tbody>\n",
       "    <tr>\n",
       "      <th>Sorted - Descending</th>\n",
       "      <td>0.106714</td>\n",
       "      <td>0.003092</td>\n",
       "      <td>499500.0</td>\n",
       "      <td>5044.0</td>\n",
       "    </tr>\n",
       "  </tbody>\n",
       "</table>\n",
       "</div>"
      ],
      "text/plain": [
       "                     ISort Time  MSort Time  Key Comp - ISort  \\\n",
       "Sorted - Descending    0.106714    0.003092          499500.0   \n",
       "\n",
       "                     Key Comp - MSort  \n",
       "Sorted - Descending            5044.0  "
      ]
     },
     "metadata": {},
     "output_type": "display_data"
    }
   ],
   "source": [
    "data = compare_time('descending_10power3')\n",
    "data = pd.DataFrame(list(data), index=columns, columns=[index[2]]).transpose()\n",
    "display(data)\n",
    "df_10power3 = df_10power3.append(data)"
   ]
  },
  {
   "cell_type": "code",
   "execution_count": 13,
   "metadata": {},
   "outputs": [
    {
     "name": "stdout",
     "output_type": "stream",
     "text": [
      "df_10power3: \n"
     ]
    },
    {
     "data": {
      "text/html": [
       "<div>\n",
       "<style scoped>\n",
       "    .dataframe tbody tr th:only-of-type {\n",
       "        vertical-align: middle;\n",
       "    }\n",
       "\n",
       "    .dataframe tbody tr th {\n",
       "        vertical-align: top;\n",
       "    }\n",
       "\n",
       "    .dataframe thead th {\n",
       "        text-align: right;\n",
       "    }\n",
       "</style>\n",
       "<table border=\"1\" class=\"dataframe\">\n",
       "  <thead>\n",
       "    <tr style=\"text-align: right;\">\n",
       "      <th></th>\n",
       "      <th>ISort Time</th>\n",
       "      <th>MSort Time</th>\n",
       "      <th>Key Comp - ISort</th>\n",
       "      <th>Key Comp - MSort</th>\n",
       "    </tr>\n",
       "  </thead>\n",
       "  <tbody>\n",
       "    <tr>\n",
       "      <th>Random</th>\n",
       "      <td>0.055751</td>\n",
       "      <td>0.003989</td>\n",
       "      <td>249789.0</td>\n",
       "      <td>8708.0</td>\n",
       "    </tr>\n",
       "    <tr>\n",
       "      <th>Sorted - Ascending</th>\n",
       "      <td>0.000299</td>\n",
       "      <td>0.002793</td>\n",
       "      <td>999.0</td>\n",
       "      <td>4932.0</td>\n",
       "    </tr>\n",
       "    <tr>\n",
       "      <th>Sorted - Descending</th>\n",
       "      <td>0.106714</td>\n",
       "      <td>0.003092</td>\n",
       "      <td>499500.0</td>\n",
       "      <td>5044.0</td>\n",
       "    </tr>\n",
       "  </tbody>\n",
       "</table>\n",
       "</div>"
      ],
      "text/plain": [
       "                     ISort Time  MSort Time  Key Comp - ISort  \\\n",
       "Random                 0.055751    0.003989          249789.0   \n",
       "Sorted - Ascending     0.000299    0.002793             999.0   \n",
       "Sorted - Descending    0.106714    0.003092          499500.0   \n",
       "\n",
       "                     Key Comp - MSort  \n",
       "Random                         8708.0  \n",
       "Sorted - Ascending             4932.0  \n",
       "Sorted - Descending            5044.0  "
      ]
     },
     "metadata": {},
     "output_type": "display_data"
    }
   ],
   "source": [
    "df_10power3.to_csv('Data/Average/df_10power3_average.csv')\n",
    "print(\"df_10power3: \")\n",
    "display(df_10power3)"
   ]
  },
  {
   "cell_type": "markdown",
   "metadata": {},
   "source": [
    "# 10^4 - Random, Sorted (Ascending), Sorted (Descending)"
   ]
  },
  {
   "cell_type": "code",
   "execution_count": 45,
   "metadata": {},
   "outputs": [
    {
     "name": "stdout",
     "output_type": "stream",
     "text": [
      "Time taken for <function insertionSort at 0x000001F43FBBB7B8> to execute [random_10power4] was:5.799881267547607\n",
      "<function insertionSort at 0x000001F43FBBB7B8> list sorted correctly: True\n",
      "\n",
      "Time taken for <function mergeSort at 0x000001F43FBBBBF8> to execute [random_10power4] was:0.06941428184509277\n",
      "<function mergeSort at 0x000001F43FBBBBF8> list sorted correctly: True\n",
      "\n",
      "InsertionSort has 204.4933440669245 times more key comparisons compared to MergeSort.\n",
      "MergeSort is 83.55458146913939 times faster than InsertionSort.\n"
     ]
    },
    {
     "data": {
      "text/html": [
       "<div>\n",
       "<style scoped>\n",
       "    .dataframe tbody tr th:only-of-type {\n",
       "        vertical-align: middle;\n",
       "    }\n",
       "\n",
       "    .dataframe tbody tr th {\n",
       "        vertical-align: top;\n",
       "    }\n",
       "\n",
       "    .dataframe thead th {\n",
       "        text-align: right;\n",
       "    }\n",
       "</style>\n",
       "<table border=\"1\" class=\"dataframe\">\n",
       "  <thead>\n",
       "    <tr style=\"text-align: right;\">\n",
       "      <th></th>\n",
       "      <th>ISort Time</th>\n",
       "      <th>MSort Time</th>\n",
       "      <th>Key Comp - ISort</th>\n",
       "      <th>Key Comp - MSort</th>\n",
       "    </tr>\n",
       "  </thead>\n",
       "  <tbody>\n",
       "    <tr>\n",
       "      <th>Random</th>\n",
       "      <td>5.799881</td>\n",
       "      <td>0.069414</td>\n",
       "      <td>24640221.0</td>\n",
       "      <td>120494.0</td>\n",
       "    </tr>\n",
       "  </tbody>\n",
       "</table>\n",
       "</div>"
      ],
      "text/plain": [
       "        ISort Time  MSort Time  Key Comp - ISort  Key Comp - MSort\n",
       "Random    5.799881    0.069414        24640221.0          120494.0"
      ]
     },
     "metadata": {},
     "output_type": "display_data"
    }
   ],
   "source": [
    "data = compare_time('random_10power4')\n",
    "data = pd.DataFrame(list(data), index=columns, columns=[index[0]]).transpose()\n",
    "display(data)\n",
    "df_10power4 = df_10power4.append(data)"
   ]
  },
  {
   "cell_type": "code",
   "execution_count": 46,
   "metadata": {
    "scrolled": true
   },
   "outputs": [
    {
     "name": "stdout",
     "output_type": "stream",
     "text": [
      "Time taken for <function insertionSort at 0x000001F43FBBB7B8> to execute [ascending_10power4] was:0.0033908367156982424\n",
      "<function insertionSort at 0x000001F43FBBB7B8> list sorted correctly: True\n",
      "\n",
      "Time taken for <function mergeSort at 0x000001F43FBBBBF8> to execute [ascending_10power4] was:0.03141593933105469\n",
      "<function mergeSort at 0x000001F43FBBBBF8> list sorted correctly: True\n",
      "\n",
      "MergeSort has 6.461446144614461 times more key comparisons compared to InsertionSort.\n",
      "InsertionSort is 9.264951976487463 times faster than MergeSort.\n"
     ]
    },
    {
     "data": {
      "text/html": [
       "<div>\n",
       "<style scoped>\n",
       "    .dataframe tbody tr th:only-of-type {\n",
       "        vertical-align: middle;\n",
       "    }\n",
       "\n",
       "    .dataframe tbody tr th {\n",
       "        vertical-align: top;\n",
       "    }\n",
       "\n",
       "    .dataframe thead th {\n",
       "        text-align: right;\n",
       "    }\n",
       "</style>\n",
       "<table border=\"1\" class=\"dataframe\">\n",
       "  <thead>\n",
       "    <tr style=\"text-align: right;\">\n",
       "      <th></th>\n",
       "      <th>ISort Time</th>\n",
       "      <th>MSort Time</th>\n",
       "      <th>Key Comp - ISort</th>\n",
       "      <th>Key Comp - MSort</th>\n",
       "    </tr>\n",
       "  </thead>\n",
       "  <tbody>\n",
       "    <tr>\n",
       "      <th>Sorted - Ascending</th>\n",
       "      <td>0.003391</td>\n",
       "      <td>0.031416</td>\n",
       "      <td>9999.0</td>\n",
       "      <td>64608.0</td>\n",
       "    </tr>\n",
       "  </tbody>\n",
       "</table>\n",
       "</div>"
      ],
      "text/plain": [
       "                    ISort Time  MSort Time  Key Comp - ISort  Key Comp - MSort\n",
       "Sorted - Ascending    0.003391    0.031416            9999.0           64608.0"
      ]
     },
     "metadata": {},
     "output_type": "display_data"
    }
   ],
   "source": [
    "data = compare_time('ascending_10power4')\n",
    "data = pd.DataFrame(list(data), index=columns, columns=[index[1]]).transpose()\n",
    "display(data)\n",
    "df_10power4 = df_10power4.append(data)"
   ]
  },
  {
   "cell_type": "code",
   "execution_count": 47,
   "metadata": {},
   "outputs": [
    {
     "name": "stdout",
     "output_type": "stream",
     "text": [
      "Time taken for <function insertionSort at 0x000001F43FBBB7B8> to execute [descending_10power4] was:11.972864246368408\n",
      "<function insertionSort at 0x000001F43FBBB7B8> list sorted correctly: True\n",
      "\n",
      "Time taken for <function mergeSort at 0x000001F43FBBBBF8> to execute [descending_10power4] was:0.03670179843902588\n",
      "<function mergeSort at 0x000001F43FBBBBF8> list sorted correctly: True\n",
      "\n",
      "InsertionSort has 724.4812195687457 times more key comparisons compared to MergeSort.\n",
      "MergeSort is 326.2200969867837 times faster than InsertionSort.\n"
     ]
    },
    {
     "data": {
      "text/html": [
       "<div>\n",
       "<style scoped>\n",
       "    .dataframe tbody tr th:only-of-type {\n",
       "        vertical-align: middle;\n",
       "    }\n",
       "\n",
       "    .dataframe tbody tr th {\n",
       "        vertical-align: top;\n",
       "    }\n",
       "\n",
       "    .dataframe thead th {\n",
       "        text-align: right;\n",
       "    }\n",
       "</style>\n",
       "<table border=\"1\" class=\"dataframe\">\n",
       "  <thead>\n",
       "    <tr style=\"text-align: right;\">\n",
       "      <th></th>\n",
       "      <th>ISort Time</th>\n",
       "      <th>MSort Time</th>\n",
       "      <th>Key Comp - ISort</th>\n",
       "      <th>Key Comp - MSort</th>\n",
       "    </tr>\n",
       "  </thead>\n",
       "  <tbody>\n",
       "    <tr>\n",
       "      <th>Sorted - Descending</th>\n",
       "      <td>11.972864</td>\n",
       "      <td>0.036702</td>\n",
       "      <td>49995000.0</td>\n",
       "      <td>69008.0</td>\n",
       "    </tr>\n",
       "  </tbody>\n",
       "</table>\n",
       "</div>"
      ],
      "text/plain": [
       "                     ISort Time  MSort Time  Key Comp - ISort  \\\n",
       "Sorted - Descending   11.972864    0.036702        49995000.0   \n",
       "\n",
       "                     Key Comp - MSort  \n",
       "Sorted - Descending           69008.0  "
      ]
     },
     "metadata": {},
     "output_type": "display_data"
    }
   ],
   "source": [
    "data = compare_time('descending_10power4')\n",
    "data = pd.DataFrame(list(data), index=columns, columns=[index[2]]).transpose()\n",
    "display(data)\n",
    "df_10power4 = df_10power4.append(data)"
   ]
  },
  {
   "cell_type": "code",
   "execution_count": 48,
   "metadata": {},
   "outputs": [
    {
     "name": "stdout",
     "output_type": "stream",
     "text": [
      "df_10power4: \n"
     ]
    },
    {
     "data": {
      "text/html": [
       "<div>\n",
       "<style scoped>\n",
       "    .dataframe tbody tr th:only-of-type {\n",
       "        vertical-align: middle;\n",
       "    }\n",
       "\n",
       "    .dataframe tbody tr th {\n",
       "        vertical-align: top;\n",
       "    }\n",
       "\n",
       "    .dataframe thead th {\n",
       "        text-align: right;\n",
       "    }\n",
       "</style>\n",
       "<table border=\"1\" class=\"dataframe\">\n",
       "  <thead>\n",
       "    <tr style=\"text-align: right;\">\n",
       "      <th></th>\n",
       "      <th>ISort Time</th>\n",
       "      <th>MSort Time</th>\n",
       "      <th>Key Comp - ISort</th>\n",
       "      <th>Key Comp - MSort</th>\n",
       "    </tr>\n",
       "  </thead>\n",
       "  <tbody>\n",
       "    <tr>\n",
       "      <th>Random</th>\n",
       "      <td>5.799881</td>\n",
       "      <td>0.069414</td>\n",
       "      <td>24640221.0</td>\n",
       "      <td>120494.0</td>\n",
       "    </tr>\n",
       "    <tr>\n",
       "      <th>Sorted - Ascending</th>\n",
       "      <td>0.003391</td>\n",
       "      <td>0.031416</td>\n",
       "      <td>9999.0</td>\n",
       "      <td>64608.0</td>\n",
       "    </tr>\n",
       "    <tr>\n",
       "      <th>Sorted - Descending</th>\n",
       "      <td>11.972864</td>\n",
       "      <td>0.036702</td>\n",
       "      <td>49995000.0</td>\n",
       "      <td>69008.0</td>\n",
       "    </tr>\n",
       "  </tbody>\n",
       "</table>\n",
       "</div>"
      ],
      "text/plain": [
       "                     ISort Time  MSort Time  Key Comp - ISort  \\\n",
       "Random                 5.799881    0.069414        24640221.0   \n",
       "Sorted - Ascending     0.003391    0.031416            9999.0   \n",
       "Sorted - Descending   11.972864    0.036702        49995000.0   \n",
       "\n",
       "                     Key Comp - MSort  \n",
       "Random                       120494.0  \n",
       "Sorted - Ascending            64608.0  \n",
       "Sorted - Descending           69008.0  "
      ]
     },
     "metadata": {},
     "output_type": "display_data"
    }
   ],
   "source": [
    "df_10power4.to_csv('Data/Average/df_10power4_average.csv')\n",
    "print(\"df_10power4: \")\n",
    "display(df_10power4)"
   ]
  },
  {
   "cell_type": "markdown",
   "metadata": {},
   "source": [
    "# 10^5 - Random, Sorted (Ascending), Sorted (Descending)"
   ]
  },
  {
   "cell_type": "code",
   "execution_count": 22,
   "metadata": {},
   "outputs": [
    {
     "name": "stdout",
     "output_type": "stream",
     "text": [
      "Time taken for <function insertionSort at 0x000001F43FBBB7B8> to execute [random_10power5] was:634.5705204725266\n",
      "<function insertionSort at 0x000001F43FBBB7B8> list sorted correctly: True\n",
      "\n",
      "Time taken for <function mergeSort at 0x000001F43FBBBBF8> to execute [random_10power5] was:0.6578427314758301\n",
      "<function mergeSort at 0x000001F43FBBBBF8> list sorted correctly: True\n",
      "\n",
      "InsertionSort has 1628.2390184461203 times more key comparisons compared to MergeSort.\n",
      "MergeSort is 964.6234428233422 times faster than InsertionSort.\n"
     ]
    },
    {
     "data": {
      "text/html": [
       "<div>\n",
       "<style scoped>\n",
       "    .dataframe tbody tr th:only-of-type {\n",
       "        vertical-align: middle;\n",
       "    }\n",
       "\n",
       "    .dataframe tbody tr th {\n",
       "        vertical-align: top;\n",
       "    }\n",
       "\n",
       "    .dataframe thead th {\n",
       "        text-align: right;\n",
       "    }\n",
       "</style>\n",
       "<table border=\"1\" class=\"dataframe\">\n",
       "  <thead>\n",
       "    <tr style=\"text-align: right;\">\n",
       "      <th></th>\n",
       "      <th>ISort Time</th>\n",
       "      <th>MSort Time</th>\n",
       "      <th>Key Comp - ISort</th>\n",
       "      <th>Key Comp - MSort</th>\n",
       "    </tr>\n",
       "  </thead>\n",
       "  <tbody>\n",
       "    <tr>\n",
       "      <th>Random</th>\n",
       "      <td>634.57052</td>\n",
       "      <td>0.657843</td>\n",
       "      <td>2.501395e+09</td>\n",
       "      <td>1536258.0</td>\n",
       "    </tr>\n",
       "  </tbody>\n",
       "</table>\n",
       "</div>"
      ],
      "text/plain": [
       "        ISort Time  MSort Time  Key Comp - ISort  Key Comp - MSort\n",
       "Random   634.57052    0.657843      2.501395e+09         1536258.0"
      ]
     },
     "metadata": {},
     "output_type": "display_data"
    }
   ],
   "source": [
    "data = compare_time('random_10power5')\n",
    "data = pd.DataFrame(list(data), index=columns, columns=[index[0]]).transpose()\n",
    "display(data)\n",
    "df_10power5 = df_10power5.append(data)"
   ]
  },
  {
   "cell_type": "code",
   "execution_count": 23,
   "metadata": {},
   "outputs": [
    {
     "name": "stdout",
     "output_type": "stream",
     "text": [
      "Time taken for <function insertionSort at 0x000001F43FBBB7B8> to execute [ascending_10power5] was:0.0357128381729126\n",
      "<function insertionSort at 0x000001F43FBBB7B8> list sorted correctly: True\n",
      "\n",
      "Time taken for <function mergeSort at 0x000001F43FBBBBF8> to execute [ascending_10power5] was:0.3466282844543457\n",
      "<function mergeSort at 0x000001F43FBBBBF8> list sorted correctly: True\n",
      "\n",
      "MergeSort has 8.150321503215032 times more key comparisons compared to InsertionSort.\n",
      "InsertionSort is 9.705985359552175 times faster than MergeSort.\n"
     ]
    },
    {
     "data": {
      "text/html": [
       "<div>\n",
       "<style scoped>\n",
       "    .dataframe tbody tr th:only-of-type {\n",
       "        vertical-align: middle;\n",
       "    }\n",
       "\n",
       "    .dataframe tbody tr th {\n",
       "        vertical-align: top;\n",
       "    }\n",
       "\n",
       "    .dataframe thead th {\n",
       "        text-align: right;\n",
       "    }\n",
       "</style>\n",
       "<table border=\"1\" class=\"dataframe\">\n",
       "  <thead>\n",
       "    <tr style=\"text-align: right;\">\n",
       "      <th></th>\n",
       "      <th>ISort Time</th>\n",
       "      <th>MSort Time</th>\n",
       "      <th>Key Comp - ISort</th>\n",
       "      <th>Key Comp - MSort</th>\n",
       "    </tr>\n",
       "  </thead>\n",
       "  <tbody>\n",
       "    <tr>\n",
       "      <th>Sorted - Ascending</th>\n",
       "      <td>0.035713</td>\n",
       "      <td>0.346628</td>\n",
       "      <td>99999.0</td>\n",
       "      <td>815024.0</td>\n",
       "    </tr>\n",
       "  </tbody>\n",
       "</table>\n",
       "</div>"
      ],
      "text/plain": [
       "                    ISort Time  MSort Time  Key Comp - ISort  Key Comp - MSort\n",
       "Sorted - Ascending    0.035713    0.346628           99999.0          815024.0"
      ]
     },
     "metadata": {},
     "output_type": "display_data"
    }
   ],
   "source": [
    "data = compare_time('ascending_10power5')\n",
    "data = pd.DataFrame(list(data), index=columns, columns=[index[1]]).transpose()\n",
    "display(data)\n",
    "df_10power5 = df_10power5.append(data)"
   ]
  },
  {
   "cell_type": "code",
   "execution_count": 24,
   "metadata": {},
   "outputs": [
    {
     "name": "stdout",
     "output_type": "stream",
     "text": [
      "Time taken for <function insertionSort at 0x000001F43FBBB7B8> to execute [descending_10power5] was:1183.0038312673569\n",
      "<function insertionSort at 0x000001F43FBBB7B8> list sorted correctly: True\n",
      "\n",
      "Time taken for <function mergeSort at 0x000001F43FBBBBF8> to execute [descending_10power5] was:0.3884586334228516\n",
      "<function mergeSort at 0x000001F43FBBBBF8> list sorted correctly: True\n",
      "\n",
      "InsertionSort has 5855.400607094006 times more key comparisons compared to MergeSort.\n",
      "MergeSort is 3045.3791716339933 times faster than InsertionSort.\n"
     ]
    },
    {
     "data": {
      "text/html": [
       "<div>\n",
       "<style scoped>\n",
       "    .dataframe tbody tr th:only-of-type {\n",
       "        vertical-align: middle;\n",
       "    }\n",
       "\n",
       "    .dataframe tbody tr th {\n",
       "        vertical-align: top;\n",
       "    }\n",
       "\n",
       "    .dataframe thead th {\n",
       "        text-align: right;\n",
       "    }\n",
       "</style>\n",
       "<table border=\"1\" class=\"dataframe\">\n",
       "  <thead>\n",
       "    <tr style=\"text-align: right;\">\n",
       "      <th></th>\n",
       "      <th>ISort Time</th>\n",
       "      <th>MSort Time</th>\n",
       "      <th>Key Comp - ISort</th>\n",
       "      <th>Key Comp - MSort</th>\n",
       "    </tr>\n",
       "  </thead>\n",
       "  <tbody>\n",
       "    <tr>\n",
       "      <th>Sorted - Descending</th>\n",
       "      <td>1183.003831</td>\n",
       "      <td>0.388459</td>\n",
       "      <td>4.999950e+09</td>\n",
       "      <td>853904.0</td>\n",
       "    </tr>\n",
       "  </tbody>\n",
       "</table>\n",
       "</div>"
      ],
      "text/plain": [
       "                      ISort Time  MSort Time  Key Comp - ISort  \\\n",
       "Sorted - Descending  1183.003831    0.388459      4.999950e+09   \n",
       "\n",
       "                     Key Comp - MSort  \n",
       "Sorted - Descending          853904.0  "
      ]
     },
     "metadata": {},
     "output_type": "display_data"
    }
   ],
   "source": [
    "data = compare_time('descending_10power5')\n",
    "data = pd.DataFrame(list(data), index=columns, columns=[index[2]]).transpose()\n",
    "display(data)\n",
    "df_10power5 = df_10power5.append(data)"
   ]
  },
  {
   "cell_type": "code",
   "execution_count": 25,
   "metadata": {},
   "outputs": [
    {
     "name": "stdout",
     "output_type": "stream",
     "text": [
      "df_10power5: \n"
     ]
    },
    {
     "data": {
      "text/html": [
       "<div>\n",
       "<style scoped>\n",
       "    .dataframe tbody tr th:only-of-type {\n",
       "        vertical-align: middle;\n",
       "    }\n",
       "\n",
       "    .dataframe tbody tr th {\n",
       "        vertical-align: top;\n",
       "    }\n",
       "\n",
       "    .dataframe thead th {\n",
       "        text-align: right;\n",
       "    }\n",
       "</style>\n",
       "<table border=\"1\" class=\"dataframe\">\n",
       "  <thead>\n",
       "    <tr style=\"text-align: right;\">\n",
       "      <th></th>\n",
       "      <th>ISort Time</th>\n",
       "      <th>MSort Time</th>\n",
       "      <th>Key Comp - ISort</th>\n",
       "      <th>Key Comp - MSort</th>\n",
       "    </tr>\n",
       "  </thead>\n",
       "  <tbody>\n",
       "    <tr>\n",
       "      <th>Random</th>\n",
       "      <td>634.570520</td>\n",
       "      <td>0.657843</td>\n",
       "      <td>2.501395e+09</td>\n",
       "      <td>1536258.0</td>\n",
       "    </tr>\n",
       "    <tr>\n",
       "      <th>Sorted - Ascending</th>\n",
       "      <td>0.035713</td>\n",
       "      <td>0.346628</td>\n",
       "      <td>9.999900e+04</td>\n",
       "      <td>815024.0</td>\n",
       "    </tr>\n",
       "    <tr>\n",
       "      <th>Sorted - Descending</th>\n",
       "      <td>1183.003831</td>\n",
       "      <td>0.388459</td>\n",
       "      <td>4.999950e+09</td>\n",
       "      <td>853904.0</td>\n",
       "    </tr>\n",
       "  </tbody>\n",
       "</table>\n",
       "</div>"
      ],
      "text/plain": [
       "                      ISort Time  MSort Time  Key Comp - ISort  \\\n",
       "Random                634.570520    0.657843      2.501395e+09   \n",
       "Sorted - Ascending      0.035713    0.346628      9.999900e+04   \n",
       "Sorted - Descending  1183.003831    0.388459      4.999950e+09   \n",
       "\n",
       "                     Key Comp - MSort  \n",
       "Random                      1536258.0  \n",
       "Sorted - Ascending           815024.0  \n",
       "Sorted - Descending          853904.0  "
      ]
     },
     "metadata": {},
     "output_type": "display_data"
    }
   ],
   "source": [
    "df_10power5.to_csv('Data/Average/df_10power5_average.csv')\n",
    "print(\"df_10power5: \")\n",
    "display(df_10power5)"
   ]
  },
  {
   "cell_type": "markdown",
   "metadata": {},
   "source": [
    "# 10^6 - Random, Sorted (Ascending), Sorted (Descending)"
   ]
  },
  {
   "cell_type": "code",
   "execution_count": null,
   "metadata": {
    "scrolled": true
   },
   "outputs": [],
   "source": [
    "data = compare_time('random_10power6')\n",
    "data = pd.DataFrame(list(data), index=columns, columns=[index[0]]).transpose()\n",
    "display(data)\n",
    "df_10power6 = df_10power6.append(data)"
   ]
  },
  {
   "cell_type": "code",
   "execution_count": null,
   "metadata": {},
   "outputs": [],
   "source": [
    "data = compare_time('ascending_10power6')\n",
    "data = pd.DataFrame(list(data), index=columns, columns=[index[1]]).transpose()\n",
    "display(data)\n",
    "df_10power6 = df_10power6.append(data)"
   ]
  },
  {
   "cell_type": "code",
   "execution_count": null,
   "metadata": {},
   "outputs": [],
   "source": [
    "data = compare_time('descending_10power6')\n",
    "data = pd.DataFrame(list(data), index=columns, columns=[index[2]]).transpose()\n",
    "display(data)\n",
    "df_10power6 = df_10power6.append(data)"
   ]
  },
  {
   "cell_type": "code",
   "execution_count": null,
   "metadata": {},
   "outputs": [],
   "source": [
    "df_10power6.to_csv('Data/Average/df_10power6_average.csv')\n",
    "print(\"df_10power6: \")\n",
    "display(df_10power6)"
   ]
  },
  {
   "cell_type": "markdown",
   "metadata": {},
   "source": [
    "# Import .csv files we have saved"
   ]
  },
  {
   "cell_type": "code",
   "execution_count": 54,
   "metadata": {},
   "outputs": [
    {
     "name": "stdout",
     "output_type": "stream",
     "text": [
      "10power3: \n"
     ]
    },
    {
     "data": {
      "text/html": [
       "<div>\n",
       "<style scoped>\n",
       "    .dataframe tbody tr th:only-of-type {\n",
       "        vertical-align: middle;\n",
       "    }\n",
       "\n",
       "    .dataframe tbody tr th {\n",
       "        vertical-align: top;\n",
       "    }\n",
       "\n",
       "    .dataframe thead th {\n",
       "        text-align: right;\n",
       "    }\n",
       "</style>\n",
       "<table border=\"1\" class=\"dataframe\">\n",
       "  <thead>\n",
       "    <tr style=\"text-align: right;\">\n",
       "      <th></th>\n",
       "      <th>Unnamed: 0</th>\n",
       "      <th>ISort Time</th>\n",
       "      <th>MSort Time</th>\n",
       "      <th>Key Comp - ISort</th>\n",
       "      <th>Key Comp - MSort</th>\n",
       "    </tr>\n",
       "  </thead>\n",
       "  <tbody>\n",
       "    <tr>\n",
       "      <th>0</th>\n",
       "      <td>Random</td>\n",
       "      <td>0.055751</td>\n",
       "      <td>0.003989</td>\n",
       "      <td>249789.0</td>\n",
       "      <td>8708.0</td>\n",
       "    </tr>\n",
       "    <tr>\n",
       "      <th>1</th>\n",
       "      <td>Sorted - Ascending</td>\n",
       "      <td>0.000299</td>\n",
       "      <td>0.002793</td>\n",
       "      <td>999.0</td>\n",
       "      <td>4932.0</td>\n",
       "    </tr>\n",
       "    <tr>\n",
       "      <th>2</th>\n",
       "      <td>Sorted - Descending</td>\n",
       "      <td>0.106714</td>\n",
       "      <td>0.003092</td>\n",
       "      <td>499500.0</td>\n",
       "      <td>5044.0</td>\n",
       "    </tr>\n",
       "  </tbody>\n",
       "</table>\n",
       "</div>"
      ],
      "text/plain": [
       "            Unnamed: 0  ISort Time  MSort Time  Key Comp - ISort  \\\n",
       "0               Random    0.055751    0.003989          249789.0   \n",
       "1   Sorted - Ascending    0.000299    0.002793             999.0   \n",
       "2  Sorted - Descending    0.106714    0.003092          499500.0   \n",
       "\n",
       "   Key Comp - MSort  \n",
       "0            8708.0  \n",
       "1            4932.0  \n",
       "2            5044.0  "
      ]
     },
     "metadata": {},
     "output_type": "display_data"
    },
    {
     "name": "stdout",
     "output_type": "stream",
     "text": [
      "\n",
      "10power4: \n"
     ]
    },
    {
     "data": {
      "text/html": [
       "<div>\n",
       "<style scoped>\n",
       "    .dataframe tbody tr th:only-of-type {\n",
       "        vertical-align: middle;\n",
       "    }\n",
       "\n",
       "    .dataframe tbody tr th {\n",
       "        vertical-align: top;\n",
       "    }\n",
       "\n",
       "    .dataframe thead th {\n",
       "        text-align: right;\n",
       "    }\n",
       "</style>\n",
       "<table border=\"1\" class=\"dataframe\">\n",
       "  <thead>\n",
       "    <tr style=\"text-align: right;\">\n",
       "      <th></th>\n",
       "      <th>Unnamed: 0</th>\n",
       "      <th>ISort Time</th>\n",
       "      <th>MSort Time</th>\n",
       "      <th>Key Comp - ISort</th>\n",
       "      <th>Key Comp - MSort</th>\n",
       "    </tr>\n",
       "  </thead>\n",
       "  <tbody>\n",
       "    <tr>\n",
       "      <th>0</th>\n",
       "      <td>Random</td>\n",
       "      <td>5.799881</td>\n",
       "      <td>0.069414</td>\n",
       "      <td>24640221.0</td>\n",
       "      <td>120494.0</td>\n",
       "    </tr>\n",
       "    <tr>\n",
       "      <th>1</th>\n",
       "      <td>Sorted - Ascending</td>\n",
       "      <td>0.003391</td>\n",
       "      <td>0.031416</td>\n",
       "      <td>9999.0</td>\n",
       "      <td>64608.0</td>\n",
       "    </tr>\n",
       "    <tr>\n",
       "      <th>2</th>\n",
       "      <td>Sorted - Descending</td>\n",
       "      <td>11.972864</td>\n",
       "      <td>0.036702</td>\n",
       "      <td>49995000.0</td>\n",
       "      <td>69008.0</td>\n",
       "    </tr>\n",
       "  </tbody>\n",
       "</table>\n",
       "</div>"
      ],
      "text/plain": [
       "            Unnamed: 0  ISort Time  MSort Time  Key Comp - ISort  \\\n",
       "0               Random    5.799881    0.069414        24640221.0   \n",
       "1   Sorted - Ascending    0.003391    0.031416            9999.0   \n",
       "2  Sorted - Descending   11.972864    0.036702        49995000.0   \n",
       "\n",
       "   Key Comp - MSort  \n",
       "0          120494.0  \n",
       "1           64608.0  \n",
       "2           69008.0  "
      ]
     },
     "metadata": {},
     "output_type": "display_data"
    },
    {
     "name": "stdout",
     "output_type": "stream",
     "text": [
      "\n",
      "10power5: \n"
     ]
    },
    {
     "data": {
      "text/html": [
       "<div>\n",
       "<style scoped>\n",
       "    .dataframe tbody tr th:only-of-type {\n",
       "        vertical-align: middle;\n",
       "    }\n",
       "\n",
       "    .dataframe tbody tr th {\n",
       "        vertical-align: top;\n",
       "    }\n",
       "\n",
       "    .dataframe thead th {\n",
       "        text-align: right;\n",
       "    }\n",
       "</style>\n",
       "<table border=\"1\" class=\"dataframe\">\n",
       "  <thead>\n",
       "    <tr style=\"text-align: right;\">\n",
       "      <th></th>\n",
       "      <th>Unnamed: 0</th>\n",
       "      <th>ISort Time</th>\n",
       "      <th>MSort Time</th>\n",
       "      <th>Key Comp - ISort</th>\n",
       "      <th>Key Comp - MSort</th>\n",
       "    </tr>\n",
       "  </thead>\n",
       "  <tbody>\n",
       "    <tr>\n",
       "      <th>0</th>\n",
       "      <td>Random</td>\n",
       "      <td>634.570520</td>\n",
       "      <td>0.657843</td>\n",
       "      <td>2.501395e+09</td>\n",
       "      <td>1536258.0</td>\n",
       "    </tr>\n",
       "    <tr>\n",
       "      <th>1</th>\n",
       "      <td>Sorted - Ascending</td>\n",
       "      <td>0.035713</td>\n",
       "      <td>0.346628</td>\n",
       "      <td>9.999900e+04</td>\n",
       "      <td>815024.0</td>\n",
       "    </tr>\n",
       "    <tr>\n",
       "      <th>2</th>\n",
       "      <td>Sorted - Descending</td>\n",
       "      <td>1183.003831</td>\n",
       "      <td>0.388459</td>\n",
       "      <td>4.999950e+09</td>\n",
       "      <td>853904.0</td>\n",
       "    </tr>\n",
       "  </tbody>\n",
       "</table>\n",
       "</div>"
      ],
      "text/plain": [
       "            Unnamed: 0   ISort Time  MSort Time  Key Comp - ISort  \\\n",
       "0               Random   634.570520    0.657843      2.501395e+09   \n",
       "1   Sorted - Ascending     0.035713    0.346628      9.999900e+04   \n",
       "2  Sorted - Descending  1183.003831    0.388459      4.999950e+09   \n",
       "\n",
       "   Key Comp - MSort  \n",
       "0         1536258.0  \n",
       "1          815024.0  \n",
       "2          853904.0  "
      ]
     },
     "metadata": {},
     "output_type": "display_data"
    }
   ],
   "source": [
    "df_10power3 = pd.read_csv('Data/Average/df_10power3_average.csv')\n",
    "df_10power4 = pd.read_csv('Data/Average/df_10power4_average.csv')\n",
    "df_10power5 = pd.read_csv('Data/Average/df_10power5_average.csv')\n",
    "# df_10power6 = pd.read_csv('Data/Average/df_10power6_average.csv')\n",
    "print(\"10power3: \")\n",
    "display(df_10power3)\n",
    "print(\"\\n10power4: \")\n",
    "display(df_10power4)\n",
    "print(\"\\n10power5: \")\n",
    "display(df_10power5)\n",
    "# display(df_10power6)"
   ]
  },
  {
   "cell_type": "code",
   "execution_count": null,
   "metadata": {},
   "outputs": [],
   "source": []
  }
 ],
 "metadata": {
  "kernelspec": {
   "display_name": "Python 3",
   "language": "python",
   "name": "python3"
  },
  "language_info": {
   "codemirror_mode": {
    "name": "ipython",
    "version": 3
   },
   "file_extension": ".py",
   "mimetype": "text/x-python",
   "name": "python",
   "nbconvert_exporter": "python",
   "pygments_lexer": "ipython3",
   "version": "3.7.3"
  }
 },
 "nbformat": 4,
 "nbformat_minor": 2
}
